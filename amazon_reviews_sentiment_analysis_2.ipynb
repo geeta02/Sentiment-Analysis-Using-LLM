{
  "cells": [
    {
      "cell_type": "markdown",
      "id": "56b52d12",
      "metadata": {
        "id": "56b52d12"
      },
      "source": [
        "# Sentiment Analysis of Consumer Reviews of Amazon Products"
      ]
    },
    {
      "cell_type": "code",
      "execution_count": null,
      "id": "eaa2afd3",
      "metadata": {
        "id": "eaa2afd3"
      },
      "outputs": [],
      "source": [
        "from transformers import pipeline\n",
        "from transformers import TrainingArguments, Trainer"
      ]
    },
    {
      "cell_type": "code",
      "source": [
        "!pip install datasets"
      ],
      "metadata": {
        "colab": {
          "base_uri": "https://localhost:8080/"
        },
        "collapsed": true,
        "id": "AkdD7ECrftJ_",
        "outputId": "cd0f073a-3ced-4155-c22b-d595656666ae"
      },
      "id": "AkdD7ECrftJ_",
      "execution_count": null,
      "outputs": [
        {
          "output_type": "stream",
          "name": "stdout",
          "text": [
            "Requirement already satisfied: datasets in /usr/local/lib/python3.11/dist-packages (3.2.0)\n",
            "Requirement already satisfied: filelock in /usr/local/lib/python3.11/dist-packages (from datasets) (3.16.1)\n",
            "Requirement already satisfied: numpy>=1.17 in /usr/local/lib/python3.11/dist-packages (from datasets) (1.26.4)\n",
            "Requirement already satisfied: pyarrow>=15.0.0 in /usr/local/lib/python3.11/dist-packages (from datasets) (17.0.0)\n",
            "Requirement already satisfied: dill<0.3.9,>=0.3.0 in /usr/local/lib/python3.11/dist-packages (from datasets) (0.3.8)\n",
            "Requirement already satisfied: pandas in /usr/local/lib/python3.11/dist-packages (from datasets) (2.2.2)\n",
            "Requirement already satisfied: requests>=2.32.2 in /usr/local/lib/python3.11/dist-packages (from datasets) (2.32.3)\n",
            "Requirement already satisfied: tqdm>=4.66.3 in /usr/local/lib/python3.11/dist-packages (from datasets) (4.67.1)\n",
            "Requirement already satisfied: xxhash in /usr/local/lib/python3.11/dist-packages (from datasets) (3.5.0)\n",
            "Requirement already satisfied: multiprocess<0.70.17 in /usr/local/lib/python3.11/dist-packages (from datasets) (0.70.16)\n",
            "Requirement already satisfied: fsspec<=2024.9.0,>=2023.1.0 in /usr/local/lib/python3.11/dist-packages (from fsspec[http]<=2024.9.0,>=2023.1.0->datasets) (2024.9.0)\n",
            "Requirement already satisfied: aiohttp in /usr/local/lib/python3.11/dist-packages (from datasets) (3.11.11)\n",
            "Requirement already satisfied: huggingface-hub>=0.23.0 in /usr/local/lib/python3.11/dist-packages (from datasets) (0.27.1)\n",
            "Requirement already satisfied: packaging in /usr/local/lib/python3.11/dist-packages (from datasets) (24.2)\n",
            "Requirement already satisfied: pyyaml>=5.1 in /usr/local/lib/python3.11/dist-packages (from datasets) (6.0.2)\n",
            "Requirement already satisfied: aiohappyeyeballs>=2.3.0 in /usr/local/lib/python3.11/dist-packages (from aiohttp->datasets) (2.4.4)\n",
            "Requirement already satisfied: aiosignal>=1.1.2 in /usr/local/lib/python3.11/dist-packages (from aiohttp->datasets) (1.3.2)\n",
            "Requirement already satisfied: attrs>=17.3.0 in /usr/local/lib/python3.11/dist-packages (from aiohttp->datasets) (24.3.0)\n",
            "Requirement already satisfied: frozenlist>=1.1.1 in /usr/local/lib/python3.11/dist-packages (from aiohttp->datasets) (1.5.0)\n",
            "Requirement already satisfied: multidict<7.0,>=4.5 in /usr/local/lib/python3.11/dist-packages (from aiohttp->datasets) (6.1.0)\n",
            "Requirement already satisfied: propcache>=0.2.0 in /usr/local/lib/python3.11/dist-packages (from aiohttp->datasets) (0.2.1)\n",
            "Requirement already satisfied: yarl<2.0,>=1.17.0 in /usr/local/lib/python3.11/dist-packages (from aiohttp->datasets) (1.18.3)\n",
            "Requirement already satisfied: typing-extensions>=3.7.4.3 in /usr/local/lib/python3.11/dist-packages (from huggingface-hub>=0.23.0->datasets) (4.12.2)\n",
            "Requirement already satisfied: charset-normalizer<4,>=2 in /usr/local/lib/python3.11/dist-packages (from requests>=2.32.2->datasets) (3.4.1)\n",
            "Requirement already satisfied: idna<4,>=2.5 in /usr/local/lib/python3.11/dist-packages (from requests>=2.32.2->datasets) (3.10)\n",
            "Requirement already satisfied: urllib3<3,>=1.21.1 in /usr/local/lib/python3.11/dist-packages (from requests>=2.32.2->datasets) (2.3.0)\n",
            "Requirement already satisfied: certifi>=2017.4.17 in /usr/local/lib/python3.11/dist-packages (from requests>=2.32.2->datasets) (2024.12.14)\n",
            "Requirement already satisfied: python-dateutil>=2.8.2 in /usr/local/lib/python3.11/dist-packages (from pandas->datasets) (2.8.2)\n",
            "Requirement already satisfied: pytz>=2020.1 in /usr/local/lib/python3.11/dist-packages (from pandas->datasets) (2024.2)\n",
            "Requirement already satisfied: tzdata>=2022.7 in /usr/local/lib/python3.11/dist-packages (from pandas->datasets) (2024.2)\n",
            "Requirement already satisfied: six>=1.5 in /usr/local/lib/python3.11/dist-packages (from python-dateutil>=2.8.2->pandas->datasets) (1.17.0)\n"
          ]
        }
      ]
    },
    {
      "cell_type": "code",
      "source": [
        "!pip install datasets evaluate"
      ],
      "metadata": {
        "colab": {
          "base_uri": "https://localhost:8080/"
        },
        "collapsed": true,
        "id": "FTRDl_aNf3ic",
        "outputId": "49d19f24-7e15-4c4a-fd96-c742578c1414"
      },
      "id": "FTRDl_aNf3ic",
      "execution_count": null,
      "outputs": [
        {
          "output_type": "stream",
          "name": "stdout",
          "text": [
            "Requirement already satisfied: datasets in /usr/local/lib/python3.11/dist-packages (3.2.0)\n",
            "Requirement already satisfied: evaluate in /usr/local/lib/python3.11/dist-packages (0.4.0)\n",
            "Requirement already satisfied: filelock in /usr/local/lib/python3.11/dist-packages (from datasets) (3.16.1)\n",
            "Requirement already satisfied: numpy>=1.17 in /usr/local/lib/python3.11/dist-packages (from datasets) (1.26.4)\n",
            "Requirement already satisfied: pyarrow>=15.0.0 in /usr/local/lib/python3.11/dist-packages (from datasets) (17.0.0)\n",
            "Requirement already satisfied: dill<0.3.9,>=0.3.0 in /usr/local/lib/python3.11/dist-packages (from datasets) (0.3.8)\n",
            "Requirement already satisfied: pandas in /usr/local/lib/python3.11/dist-packages (from datasets) (2.2.2)\n",
            "Requirement already satisfied: requests>=2.32.2 in /usr/local/lib/python3.11/dist-packages (from datasets) (2.32.3)\n",
            "Requirement already satisfied: tqdm>=4.66.3 in /usr/local/lib/python3.11/dist-packages (from datasets) (4.67.1)\n",
            "Requirement already satisfied: xxhash in /usr/local/lib/python3.11/dist-packages (from datasets) (3.5.0)\n",
            "Requirement already satisfied: multiprocess<0.70.17 in /usr/local/lib/python3.11/dist-packages (from datasets) (0.70.16)\n",
            "Requirement already satisfied: fsspec<=2024.9.0,>=2023.1.0 in /usr/local/lib/python3.11/dist-packages (from fsspec[http]<=2024.9.0,>=2023.1.0->datasets) (2024.9.0)\n",
            "Requirement already satisfied: aiohttp in /usr/local/lib/python3.11/dist-packages (from datasets) (3.11.11)\n",
            "Requirement already satisfied: huggingface-hub>=0.23.0 in /usr/local/lib/python3.11/dist-packages (from datasets) (0.27.1)\n",
            "Requirement already satisfied: packaging in /usr/local/lib/python3.11/dist-packages (from datasets) (24.2)\n",
            "Requirement already satisfied: pyyaml>=5.1 in /usr/local/lib/python3.11/dist-packages (from datasets) (6.0.2)\n",
            "Requirement already satisfied: responses<0.19 in /usr/local/lib/python3.11/dist-packages (from evaluate) (0.18.0)\n",
            "Requirement already satisfied: aiohappyeyeballs>=2.3.0 in /usr/local/lib/python3.11/dist-packages (from aiohttp->datasets) (2.4.4)\n",
            "Requirement already satisfied: aiosignal>=1.1.2 in /usr/local/lib/python3.11/dist-packages (from aiohttp->datasets) (1.3.2)\n",
            "Requirement already satisfied: attrs>=17.3.0 in /usr/local/lib/python3.11/dist-packages (from aiohttp->datasets) (24.3.0)\n",
            "Requirement already satisfied: frozenlist>=1.1.1 in /usr/local/lib/python3.11/dist-packages (from aiohttp->datasets) (1.5.0)\n",
            "Requirement already satisfied: multidict<7.0,>=4.5 in /usr/local/lib/python3.11/dist-packages (from aiohttp->datasets) (6.1.0)\n",
            "Requirement already satisfied: propcache>=0.2.0 in /usr/local/lib/python3.11/dist-packages (from aiohttp->datasets) (0.2.1)\n",
            "Requirement already satisfied: yarl<2.0,>=1.17.0 in /usr/local/lib/python3.11/dist-packages (from aiohttp->datasets) (1.18.3)\n",
            "Requirement already satisfied: typing-extensions>=3.7.4.3 in /usr/local/lib/python3.11/dist-packages (from huggingface-hub>=0.23.0->datasets) (4.12.2)\n",
            "Requirement already satisfied: charset-normalizer<4,>=2 in /usr/local/lib/python3.11/dist-packages (from requests>=2.32.2->datasets) (3.4.1)\n",
            "Requirement already satisfied: idna<4,>=2.5 in /usr/local/lib/python3.11/dist-packages (from requests>=2.32.2->datasets) (3.10)\n",
            "Requirement already satisfied: urllib3<3,>=1.21.1 in /usr/local/lib/python3.11/dist-packages (from requests>=2.32.2->datasets) (2.3.0)\n",
            "Requirement already satisfied: certifi>=2017.4.17 in /usr/local/lib/python3.11/dist-packages (from requests>=2.32.2->datasets) (2024.12.14)\n",
            "Requirement already satisfied: python-dateutil>=2.8.2 in /usr/local/lib/python3.11/dist-packages (from pandas->datasets) (2.8.2)\n",
            "Requirement already satisfied: pytz>=2020.1 in /usr/local/lib/python3.11/dist-packages (from pandas->datasets) (2024.2)\n",
            "Requirement already satisfied: tzdata>=2022.7 in /usr/local/lib/python3.11/dist-packages (from pandas->datasets) (2024.2)\n",
            "Requirement already satisfied: six>=1.5 in /usr/local/lib/python3.11/dist-packages (from python-dateutil>=2.8.2->pandas->datasets) (1.17.0)\n"
          ]
        }
      ]
    },
    {
      "cell_type": "code",
      "source": [
        "!pip install evaluate==0.4.0"
      ],
      "metadata": {
        "colab": {
          "base_uri": "https://localhost:8080/"
        },
        "collapsed": true,
        "id": "TKhyzZBAgHtF",
        "outputId": "731493d5-9aee-46eb-8c19-347f78d38287"
      },
      "id": "TKhyzZBAgHtF",
      "execution_count": null,
      "outputs": [
        {
          "output_type": "stream",
          "name": "stdout",
          "text": [
            "Requirement already satisfied: evaluate==0.4.0 in /usr/local/lib/python3.11/dist-packages (0.4.0)\n",
            "Requirement already satisfied: datasets>=2.0.0 in /usr/local/lib/python3.11/dist-packages (from evaluate==0.4.0) (3.2.0)\n",
            "Requirement already satisfied: numpy>=1.17 in /usr/local/lib/python3.11/dist-packages (from evaluate==0.4.0) (1.26.4)\n",
            "Requirement already satisfied: dill in /usr/local/lib/python3.11/dist-packages (from evaluate==0.4.0) (0.3.8)\n",
            "Requirement already satisfied: pandas in /usr/local/lib/python3.11/dist-packages (from evaluate==0.4.0) (2.2.2)\n",
            "Requirement already satisfied: requests>=2.19.0 in /usr/local/lib/python3.11/dist-packages (from evaluate==0.4.0) (2.32.3)\n",
            "Requirement already satisfied: tqdm>=4.62.1 in /usr/local/lib/python3.11/dist-packages (from evaluate==0.4.0) (4.67.1)\n",
            "Requirement already satisfied: xxhash in /usr/local/lib/python3.11/dist-packages (from evaluate==0.4.0) (3.5.0)\n",
            "Requirement already satisfied: multiprocess in /usr/local/lib/python3.11/dist-packages (from evaluate==0.4.0) (0.70.16)\n",
            "Requirement already satisfied: fsspec>=2021.05.0 in /usr/local/lib/python3.11/dist-packages (from fsspec[http]>=2021.05.0->evaluate==0.4.0) (2024.9.0)\n",
            "Requirement already satisfied: huggingface-hub>=0.7.0 in /usr/local/lib/python3.11/dist-packages (from evaluate==0.4.0) (0.27.1)\n",
            "Requirement already satisfied: packaging in /usr/local/lib/python3.11/dist-packages (from evaluate==0.4.0) (24.2)\n",
            "Requirement already satisfied: responses<0.19 in /usr/local/lib/python3.11/dist-packages (from evaluate==0.4.0) (0.18.0)\n",
            "Requirement already satisfied: filelock in /usr/local/lib/python3.11/dist-packages (from datasets>=2.0.0->evaluate==0.4.0) (3.16.1)\n",
            "Requirement already satisfied: pyarrow>=15.0.0 in /usr/local/lib/python3.11/dist-packages (from datasets>=2.0.0->evaluate==0.4.0) (17.0.0)\n",
            "Requirement already satisfied: aiohttp in /usr/local/lib/python3.11/dist-packages (from datasets>=2.0.0->evaluate==0.4.0) (3.11.11)\n",
            "Requirement already satisfied: pyyaml>=5.1 in /usr/local/lib/python3.11/dist-packages (from datasets>=2.0.0->evaluate==0.4.0) (6.0.2)\n",
            "Requirement already satisfied: typing-extensions>=3.7.4.3 in /usr/local/lib/python3.11/dist-packages (from huggingface-hub>=0.7.0->evaluate==0.4.0) (4.12.2)\n",
            "Requirement already satisfied: charset-normalizer<4,>=2 in /usr/local/lib/python3.11/dist-packages (from requests>=2.19.0->evaluate==0.4.0) (3.4.1)\n",
            "Requirement already satisfied: idna<4,>=2.5 in /usr/local/lib/python3.11/dist-packages (from requests>=2.19.0->evaluate==0.4.0) (3.10)\n",
            "Requirement already satisfied: urllib3<3,>=1.21.1 in /usr/local/lib/python3.11/dist-packages (from requests>=2.19.0->evaluate==0.4.0) (2.3.0)\n",
            "Requirement already satisfied: certifi>=2017.4.17 in /usr/local/lib/python3.11/dist-packages (from requests>=2.19.0->evaluate==0.4.0) (2024.12.14)\n",
            "Requirement already satisfied: python-dateutil>=2.8.2 in /usr/local/lib/python3.11/dist-packages (from pandas->evaluate==0.4.0) (2.8.2)\n",
            "Requirement already satisfied: pytz>=2020.1 in /usr/local/lib/python3.11/dist-packages (from pandas->evaluate==0.4.0) (2024.2)\n",
            "Requirement already satisfied: tzdata>=2022.7 in /usr/local/lib/python3.11/dist-packages (from pandas->evaluate==0.4.0) (2024.2)\n",
            "Requirement already satisfied: aiohappyeyeballs>=2.3.0 in /usr/local/lib/python3.11/dist-packages (from aiohttp->datasets>=2.0.0->evaluate==0.4.0) (2.4.4)\n",
            "Requirement already satisfied: aiosignal>=1.1.2 in /usr/local/lib/python3.11/dist-packages (from aiohttp->datasets>=2.0.0->evaluate==0.4.0) (1.3.2)\n",
            "Requirement already satisfied: attrs>=17.3.0 in /usr/local/lib/python3.11/dist-packages (from aiohttp->datasets>=2.0.0->evaluate==0.4.0) (24.3.0)\n",
            "Requirement already satisfied: frozenlist>=1.1.1 in /usr/local/lib/python3.11/dist-packages (from aiohttp->datasets>=2.0.0->evaluate==0.4.0) (1.5.0)\n",
            "Requirement already satisfied: multidict<7.0,>=4.5 in /usr/local/lib/python3.11/dist-packages (from aiohttp->datasets>=2.0.0->evaluate==0.4.0) (6.1.0)\n",
            "Requirement already satisfied: propcache>=0.2.0 in /usr/local/lib/python3.11/dist-packages (from aiohttp->datasets>=2.0.0->evaluate==0.4.0) (0.2.1)\n",
            "Requirement already satisfied: yarl<2.0,>=1.17.0 in /usr/local/lib/python3.11/dist-packages (from aiohttp->datasets>=2.0.0->evaluate==0.4.0) (1.18.3)\n",
            "Requirement already satisfied: six>=1.5 in /usr/local/lib/python3.11/dist-packages (from python-dateutil>=2.8.2->pandas->evaluate==0.4.0) (1.17.0)\n"
          ]
        }
      ]
    },
    {
      "cell_type": "code",
      "source": [
        "from google.colab import drive\n",
        "drive.mount('/content/drive')"
      ],
      "metadata": {
        "id": "CXu9ouJghnwq",
        "colab": {
          "base_uri": "https://localhost:8080/"
        },
        "outputId": "32dcd6bc-e4f1-4a2e-90e4-67f4ef48d6b3"
      },
      "id": "CXu9ouJghnwq",
      "execution_count": null,
      "outputs": [
        {
          "output_type": "stream",
          "name": "stdout",
          "text": [
            "Drive already mounted at /content/drive; to attempt to forcibly remount, call drive.mount(\"/content/drive\", force_remount=True).\n"
          ]
        }
      ]
    },
    {
      "cell_type": "code",
      "source": [
        "%run \"/content/drive/MyDrive/llm/Emoticon.py\""
      ],
      "metadata": {
        "id": "RUtJtV6XkT1g"
      },
      "id": "RUtJtV6XkT1g",
      "execution_count": null,
      "outputs": []
    },
    {
      "cell_type": "code",
      "execution_count": null,
      "id": "c540a21b",
      "metadata": {
        "id": "c540a21b"
      },
      "outputs": [],
      "source": [
        "import matplotlib.pyplot as plt\n",
        "from sklearn.metrics import classification_report\n",
        "import seaborn as sns\n",
        "import pandas as pd\n",
        "pd.options.display.max_colwidth = 300\n",
        "from sklearn.utils import class_weight\n",
        "import numpy as np\n",
        "from transformers import AutoTokenizer, AutoModelForSeq2SeqLM\n",
        "from transformers import AutoModelForSequenceClassification\n",
        "from datasets import Dataset\n",
        "#from datasets import load_metric\n",
        "from evaluate import load #load_metric -- old version\n",
        "import sys\n",
        "sys.path.append('/content/drive/MyDrive/llm/')\n",
        "from Emoticon import EMOTICONS_EMO\n",
        "from sklearn.utils import shuffle\n",
        "import torch\n",
        "from torch import nn\n",
        "from transformers import DataCollatorWithPadding"
      ]
    },
    {
      "cell_type": "code",
      "execution_count": null,
      "id": "fc6285b1",
      "metadata": {
        "colab": {
          "base_uri": "https://localhost:8080/"
        },
        "id": "fc6285b1",
        "outputId": "75e890b0-8ccf-4aa3-f670-382923e6a518",
        "collapsed": true
      },
      "outputs": [
        {
          "output_type": "execute_result",
          "data": {
            "text/plain": [
              "{':‑)': 'Happy face or smiley',\n",
              " ':-))': 'Very happy',\n",
              " ':-)))': 'Very very Happy face or smiley',\n",
              " ':)': 'Happy face or smiley',\n",
              " ':))': 'Very Happy face or smiley',\n",
              " ':)))': 'Very very Happy face or smiley',\n",
              " ':-]': 'Happy face or smiley',\n",
              " ':]': 'Happy face or smiley',\n",
              " ':-3': 'Happy face smiley',\n",
              " ':3': 'Happy face smiley',\n",
              " ':->': 'Happy face smiley',\n",
              " ':>': 'Happy face smiley',\n",
              " '8-)': 'Happy face smiley',\n",
              " ':o)': 'Happy face smiley',\n",
              " ':-}': 'Happy face smiley',\n",
              " ':}': 'Happy face smiley',\n",
              " ':-)': 'Happy face smiley',\n",
              " ':c)': 'Happy face smiley',\n",
              " ':^)': 'Happy face smiley',\n",
              " '=]': 'Happy face smiley',\n",
              " '=)': 'Happy face smiley',\n",
              " ':‑D': 'Laughing, big grin or laugh with glasses',\n",
              " ':D': 'Laughing, big grin or laugh with glasses',\n",
              " '8‑D': 'Laughing, big grin or laugh with glasses',\n",
              " '8D': 'Laughing, big grin or laugh with glasses',\n",
              " 'X‑D': 'Laughing, big grin or laugh with glasses',\n",
              " 'XD': 'Laughing, big grin or laugh with glasses',\n",
              " '=D': 'Laughing, big grin or laugh with glasses',\n",
              " '=3': 'Laughing, big grin or laugh with glasses',\n",
              " 'B^D': 'Laughing, big grin or laugh with glasses',\n",
              " ':-(': 'Frown, sad, angry or pouting',\n",
              " ':‑(': 'Frown, sad, angry or pouting',\n",
              " ':(': 'Frown, sad, angry or pouting',\n",
              " ':‑c': 'Frown, sad, angry or pouting',\n",
              " ':c': 'Frown, sad, angry or pouting',\n",
              " ':‑<': 'Frown, sad, angry or pouting',\n",
              " ':<': 'Frown, sad, angry or pouting',\n",
              " ':‑[': 'Frown, sad, angry or pouting',\n",
              " ':[': 'Frown, sad, angry or pouting',\n",
              " ':-||': 'Frown, sad, angry or pouting',\n",
              " '>:[': 'Frown, sad, angry or pouting',\n",
              " ':{': 'Frown, sad, angry or pouting',\n",
              " ':@': 'Frown, sad, angry or pouting',\n",
              " '>:(': 'Frown, sad, angry or pouting',\n",
              " \":'‑(\": 'Crying',\n",
              " \":'(\": 'Crying',\n",
              " \":'‑)\": 'Tears of happiness',\n",
              " \":')\": 'Tears of happiness',\n",
              " \"D‑':\": 'Horror',\n",
              " 'D:<': 'Disgust',\n",
              " 'D:': 'Sadness',\n",
              " 'D8': 'Great dismay',\n",
              " 'D;': 'Great dismay',\n",
              " 'D=': 'Great dismay',\n",
              " 'DX': 'Great dismay',\n",
              " ':‑O': 'Surprise',\n",
              " ':O': 'Surprise',\n",
              " ':‑o': 'Surprise',\n",
              " ':o': 'Surprise',\n",
              " ':-0': 'Shock',\n",
              " '8‑0': 'Yawn',\n",
              " '>:O': 'Yawn',\n",
              " ':-*': 'Kiss',\n",
              " ':*': 'Kiss',\n",
              " ':X': 'Kiss',\n",
              " ';‑)': 'Wink or smirk',\n",
              " ';)': 'Wink or smirk',\n",
              " '*-)': 'Wink or smirk',\n",
              " '*)': 'Wink or smirk',\n",
              " ';‑]': 'Wink or smirk',\n",
              " ';]': 'Wink or smirk',\n",
              " ';^)': 'Wink or smirk',\n",
              " ':‑,': 'Wink or smirk',\n",
              " ';D': 'Wink or smirk',\n",
              " ':‑P': 'Tongue sticking out, cheeky, playful or blowing a raspberry',\n",
              " ':P': 'Tongue sticking out, cheeky, playful or blowing a raspberry',\n",
              " 'X‑P': 'Tongue sticking out, cheeky, playful or blowing a raspberry',\n",
              " 'XP': 'Tongue sticking out, cheeky, playful or blowing a raspberry',\n",
              " ':‑Þ': 'Tongue sticking out, cheeky, playful or blowing a raspberry',\n",
              " ':Þ': 'Tongue sticking out, cheeky, playful or blowing a raspberry',\n",
              " ':b': 'Tongue sticking out, cheeky, playful or blowing a raspberry',\n",
              " 'd:': 'Tongue sticking out, cheeky, playful or blowing a raspberry',\n",
              " '=p': 'Tongue sticking out, cheeky, playful or blowing a raspberry',\n",
              " '>:P': 'Tongue sticking out, cheeky, playful or blowing a raspberry',\n",
              " ':‑/': 'Skeptical, annoyed, undecided, uneasy or hesitant',\n",
              " ':/': 'Skeptical, annoyed, undecided, uneasy or hesitant',\n",
              " ':-[.]': 'Skeptical, annoyed, undecided, uneasy or hesitant',\n",
              " '>:[(\\\\)]': 'Skeptical, annoyed, undecided, uneasy or hesitant',\n",
              " '>:/': 'Skeptical, annoyed, undecided, uneasy or hesitant',\n",
              " ':[(\\\\)]': 'Skeptical, annoyed, undecided, uneasy or hesitant',\n",
              " '=/': 'Skeptical, annoyed, undecided, uneasy or hesitant',\n",
              " '=[(\\\\)]': 'Skeptical, annoyed, undecided, uneasy or hesitant',\n",
              " ':L': 'Skeptical, annoyed, undecided, uneasy or hesitant',\n",
              " '=L': 'Skeptical, annoyed, undecided, uneasy or hesitant',\n",
              " ':S': 'Skeptical, annoyed, undecided, uneasy or hesitant',\n",
              " ':‑|': 'Straight face',\n",
              " ':|': 'Straight face',\n",
              " ':$': 'Embarrassed or blushing',\n",
              " ':‑x': 'Sealed lips or wearing braces or tongue-tied',\n",
              " ':x': 'Sealed lips or wearing braces or tongue-tied',\n",
              " ':‑#': 'Sealed lips or wearing braces or tongue-tied',\n",
              " ':#': 'Sealed lips or wearing braces or tongue-tied',\n",
              " ':‑&': 'Sealed lips or wearing braces or tongue-tied',\n",
              " ':&': 'Sealed lips or wearing braces or tongue-tied',\n",
              " 'O:‑)': 'Angel, saint or innocent',\n",
              " 'O:)': 'Angel, saint or innocent',\n",
              " '0:‑3': 'Angel, saint or innocent',\n",
              " '0:3': 'Angel, saint or innocent',\n",
              " '0:‑)': 'Angel, saint or innocent',\n",
              " '0:)': 'Angel, saint or innocent',\n",
              " ':‑b': 'Tongue sticking out, cheeky, playful or blowing a raspberry',\n",
              " '0;^)': 'Angel, saint or innocent',\n",
              " '>:‑)': 'Evil or devilish',\n",
              " '>:)': 'Evil or devilish',\n",
              " '}:‑)': 'Evil or devilish',\n",
              " '}:)': 'Evil or devilish',\n",
              " '3:‑)': 'Evil or devilish',\n",
              " '3:)': 'Evil or devilish',\n",
              " '>;)': 'Evil or devilish',\n",
              " '|;‑)': 'Cool',\n",
              " '|‑O': 'Bored',\n",
              " ':‑J': 'Tongue-in-cheek',\n",
              " '#‑)': 'Party all night',\n",
              " '%‑)': 'Drunk or confused',\n",
              " '%)': 'Drunk or confused',\n",
              " ':-###..': 'Being sick',\n",
              " ':###..': 'Being sick',\n",
              " '<:‑|': 'Dump',\n",
              " '(>_<)': 'Troubled',\n",
              " '(>_<)>': 'Troubled',\n",
              " \"(';')\": 'Baby',\n",
              " '(^^>``': 'Nervous or Embarrassed or Troubled or Shy or Sweat drop',\n",
              " '(^_^;)': 'Nervous or Embarrassed or Troubled or Shy or Sweat drop',\n",
              " '(-_-;)': 'Nervous or Embarrassed or Troubled or Shy or Sweat drop',\n",
              " '(~_~;) (・.・;)': 'Nervous or Embarrassed or Troubled or Shy or Sweat drop',\n",
              " '(-_-)zzz': 'Sleeping',\n",
              " '(^_-)': 'Wink',\n",
              " '((+_+))': 'Confused',\n",
              " '(+o+)': 'Confused',\n",
              " '(o|o)': 'Ultraman',\n",
              " '^_^': 'Joyful',\n",
              " '(^_^)/': 'Joyful',\n",
              " '(^O^)／': 'Joyful',\n",
              " '(^o^)／': 'Joyful',\n",
              " '(__)': 'Kowtow as a sign of respect, or dogeza for apology',\n",
              " '_(._.)_': 'Kowtow as a sign of respect, or dogeza for apology',\n",
              " '<(_ _)>': 'Kowtow as a sign of respect, or dogeza for apology',\n",
              " '<m(__)m>': 'Kowtow as a sign of respect, or dogeza for apology',\n",
              " 'm(__)m': 'Kowtow as a sign of respect, or dogeza for apology',\n",
              " 'm(_ _)m': 'Kowtow as a sign of respect, or dogeza for apology',\n",
              " \"('_')\": 'Sad or Crying',\n",
              " '(/_;)': 'Sad or Crying',\n",
              " '(T_T) (;_;)': 'Sad or Crying',\n",
              " '(;_;': 'Sad of Crying',\n",
              " '(;_:)': 'Sad or Crying',\n",
              " '(;O;)': 'Sad or Crying',\n",
              " '(:_;)': 'Sad or Crying',\n",
              " '(ToT)': 'Sad or Crying',\n",
              " ';_;': 'Sad or Crying',\n",
              " ';-;': 'Sad or Crying',\n",
              " ';n;': 'Sad or Crying',\n",
              " ';;': 'Sad or Crying',\n",
              " 'Q.Q': 'Sad or Crying',\n",
              " 'T.T': 'Sad or Crying',\n",
              " 'QQ': 'Sad or Crying',\n",
              " 'Q_Q': 'Sad or Crying',\n",
              " '(-.-)': 'Shame',\n",
              " '(-_-)': 'Shame',\n",
              " '(一一)': 'Shame',\n",
              " '(；一_一)': 'Shame',\n",
              " '(=_=)': 'Tired',\n",
              " '(=^·^=)': 'cat',\n",
              " '(=^··^=)': 'cat',\n",
              " '=_^= ': 'cat',\n",
              " '(..)': 'Looking down',\n",
              " '(._.)': 'Looking down',\n",
              " '^m^': 'Giggling with hand covering mouth',\n",
              " '(・・?': 'Confusion',\n",
              " '(?_?)': 'Confusion',\n",
              " '>^_^<': 'Normal Laugh',\n",
              " '<^!^>': 'Normal Laugh',\n",
              " '^/^': 'Normal Laugh',\n",
              " '（*^_^*）': 'Normal Laugh',\n",
              " '(^<^) (^.^)': 'Normal Laugh',\n",
              " '(^^)': 'Normal Laugh',\n",
              " '(^.^)': 'Normal Laugh',\n",
              " '(^_^.)': 'Normal Laugh',\n",
              " '(^_^)': 'Normal Laugh',\n",
              " '(^J^)': 'Normal Laugh',\n",
              " '(*^.^*)': 'Normal Laugh',\n",
              " '(^—^）': 'Normal Laugh',\n",
              " '(#^.^#)': 'Normal Laugh',\n",
              " '（^—^）': 'Waving',\n",
              " '(;_;)/~~~': 'Waving',\n",
              " '(^.^)/~~~': 'Waving',\n",
              " '(-_-)/~~~ ($··)/~~~': 'Waving',\n",
              " '(T_T)/~~~': 'Waving',\n",
              " '(ToT)/~~~': 'Waving',\n",
              " '(*^0^*)': 'Excited',\n",
              " '(*_*)': 'Amazed',\n",
              " '(*_*;': 'Amazed',\n",
              " '(+_+) (@_@)': 'Amazed',\n",
              " '(*^^)v': 'Laughing,Cheerful',\n",
              " '(^_^)v': 'Laughing,Cheerful',\n",
              " '((d[-_-]b))': 'Headphones,Listening to music',\n",
              " '(-\"-)': 'Worried',\n",
              " '(ーー;)': 'Worried',\n",
              " '(^0_0^)': 'Eyeglasses',\n",
              " '(＾ｖ＾)': 'Happy',\n",
              " '(＾ｕ＾)': 'Happy',\n",
              " '(^)o(^)': 'Happy',\n",
              " '(^O^)': 'Happy',\n",
              " '(^o^)': 'Happy',\n",
              " ')^o^(': 'Happy',\n",
              " ':O o_O': 'Surprised',\n",
              " 'o_0': 'Surprised',\n",
              " 'o.O': 'Surpised',\n",
              " '(o.o)': 'Surprised',\n",
              " 'oO': 'Surprised',\n",
              " '(*￣m￣)': 'Dissatisfied',\n",
              " '(‘A`)': 'Snubbed or Deflated'}"
            ]
          },
          "metadata": {},
          "execution_count": 9
        }
      ],
      "source": [
        " EMOTICONS_EMO"
      ]
    },
    {
      "cell_type": "markdown",
      "id": "626201f2",
      "metadata": {
        "id": "626201f2"
      },
      "source": [
        "### Data Description"
      ]
    },
    {
      "cell_type": "markdown",
      "id": "00a05027",
      "metadata": {
        "id": "00a05027"
      },
      "source": [
        "For this project I used the data provided by Kaggle [Consumer Reviews of Amazon Products](\n",
        "https://www.kaggle.com/datasets/datafiniti/consumer-reviews-of-amazon-products). The dataset includes rating, review text, category, timestamp etc. for each product.\n",
        "\n"
      ]
    },
    {
      "cell_type": "markdown",
      "id": "f6a02cf7",
      "metadata": {
        "id": "f6a02cf7"
      },
      "source": [
        "## Helper Functions"
      ]
    },
    {
      "cell_type": "code",
      "execution_count": null,
      "id": "c891ae7f",
      "metadata": {
        "id": "c891ae7f"
      },
      "outputs": [],
      "source": [
        "def create_sentiment(row):\n",
        "    \"\"\" Convert rating to setiment\n",
        "    Input:\n",
        "        pandas Series row\n",
        "    Output\n",
        "        pandas Series row\n",
        "\n",
        "\n",
        "    \"\"\"\n",
        "    if row >= 4:\n",
        "        sentiment = 1\n",
        "    else:\n",
        "        sentiment = 0\n",
        "    return sentiment"
      ]
    },
    {
      "cell_type": "code",
      "execution_count": null,
      "id": "172b08e9",
      "metadata": {
        "id": "172b08e9"
      },
      "outputs": [],
      "source": [
        "def convert_predictions(row):\n",
        "    \"\"\" Convert predicted sentiment to nummeric output\n",
        "    Input:\n",
        "        pandas Series row\n",
        "    Output\n",
        "        pandas Series row\n",
        "\n",
        "\n",
        "    \"\"\"\n",
        "    if row[0][\"label\"]=='POSITIVE':\n",
        "        sentiment = 1\n",
        "    elif row[0][\"label\"]=='NEGATIVE':\n",
        "        sentiment = 0\n",
        "    else:\n",
        "        sentiment = np.nan\n",
        "    return sentiment"
      ]
    },
    {
      "cell_type": "markdown",
      "id": "ee4fd4b5",
      "metadata": {
        "id": "ee4fd4b5"
      },
      "source": [
        "## 1. Data cleaning"
      ]
    },
    {
      "cell_type": "code",
      "execution_count": null,
      "id": "888cb597",
      "metadata": {
        "id": "888cb597"
      },
      "outputs": [],
      "source": [
        "# df = pd.read_csv(\"Datafiniti_Amazon_Consumer_Reviews_of_Amazon_Products.csv\",low_memory=False)"
      ]
    },
    {
      "cell_type": "code",
      "source": [
        "from google.colab import drive\n",
        "import pandas as pd\n",
        "\n",
        "# Mount Google Drive\n",
        "drive.mount('/content/drive')\n",
        "\n",
        "# Construct the path to the CSV file in your Google Drive\n",
        "csv_file_path = '/content/drive/MyDrive/llm/Datafiniti_Amazon_Consumer_Reviews_of_Amazon_Products_May19.csv'  # Replace with your file's path in Drive\n",
        "\n",
        "# Read the CSV file\n",
        "df = pd.read_csv(csv_file_path, low_memory=False)"
      ],
      "metadata": {
        "colab": {
          "base_uri": "https://localhost:8080/"
        },
        "id": "YrRdbHV4g-bv",
        "outputId": "f68ddd3c-6e00-42e0-8e6f-e577cb77f8a0"
      },
      "id": "YrRdbHV4g-bv",
      "execution_count": null,
      "outputs": [
        {
          "output_type": "stream",
          "name": "stdout",
          "text": [
            "Drive already mounted at /content/drive; to attempt to forcibly remount, call drive.mount(\"/content/drive\", force_remount=True).\n"
          ]
        }
      ]
    },
    {
      "cell_type": "code",
      "execution_count": null,
      "id": "cd2d657a",
      "metadata": {
        "id": "cd2d657a",
        "colab": {
          "base_uri": "https://localhost:8080/",
          "height": 1000
        },
        "collapsed": true,
        "outputId": "a3f0e7b1-9914-453a-90ca-2a174c50d8fb"
      },
      "outputs": [
        {
          "output_type": "execute_result",
          "data": {
            "text/plain": [
              "                     id             dateAdded           dateUpdated  \\\n",
              "0  AVpgNzjwLJeJML43Kpxn  2015-10-30T08:59:32Z  2019-04-25T09:08:16Z   \n",
              "1  AVpgNzjwLJeJML43Kpxn  2015-10-30T08:59:32Z  2019-04-25T09:08:16Z   \n",
              "2  AVpgNzjwLJeJML43Kpxn  2015-10-30T08:59:32Z  2019-04-25T09:08:16Z   \n",
              "3  AVpgNzjwLJeJML43Kpxn  2015-10-30T08:59:32Z  2019-04-25T09:08:16Z   \n",
              "4  AVpgNzjwLJeJML43Kpxn  2015-10-30T08:59:32Z  2019-04-25T09:08:16Z   \n",
              "5  AVpgNzjwLJeJML43Kpxn  2015-10-30T08:59:32Z  2019-04-25T09:08:16Z   \n",
              "6  AVpgNzjwLJeJML43Kpxn  2015-10-30T08:59:32Z  2019-04-25T09:08:16Z   \n",
              "7  AVpgNzjwLJeJML43Kpxn  2015-10-30T08:59:32Z  2019-04-25T09:08:16Z   \n",
              "\n",
              "                                                         name  \\\n",
              "0  AmazonBasics AAA Performance Alkaline Batteries (36 Count)   \n",
              "1  AmazonBasics AAA Performance Alkaline Batteries (36 Count)   \n",
              "2  AmazonBasics AAA Performance Alkaline Batteries (36 Count)   \n",
              "3  AmazonBasics AAA Performance Alkaline Batteries (36 Count)   \n",
              "4  AmazonBasics AAA Performance Alkaline Batteries (36 Count)   \n",
              "5  AmazonBasics AAA Performance Alkaline Batteries (36 Count)   \n",
              "6  AmazonBasics AAA Performance Alkaline Batteries (36 Count)   \n",
              "7  AmazonBasics AAA Performance Alkaline Batteries (36 Count)   \n",
              "\n",
              "                   asins         brand  \\\n",
              "0  B00QWO9P0O,B00LH3DMUO  Amazonbasics   \n",
              "1  B00QWO9P0O,B00LH3DMUO  Amazonbasics   \n",
              "2  B00QWO9P0O,B00LH3DMUO  Amazonbasics   \n",
              "3  B00QWO9P0O,B00LH3DMUO  Amazonbasics   \n",
              "4  B00QWO9P0O,B00LH3DMUO  Amazonbasics   \n",
              "5  B00QWO9P0O,B00LH3DMUO  Amazonbasics   \n",
              "6  B00QWO9P0O,B00LH3DMUO  Amazonbasics   \n",
              "7  B00QWO9P0O,B00LH3DMUO  Amazonbasics   \n",
              "\n",
              "                                                                                                                                                                                                                                                            categories  \\\n",
              "0  AA,AAA,Health,Electronics,Health & Household,Camcorder Batteries,Camera & Photo,Batteries,Household Batteries,Robot Check,Accessories,Camera Batteries,Health and Beauty,Household Supplies,Batteries & Chargers,Health, Household & Baby Care,Health Personal Care   \n",
              "1  AA,AAA,Health,Electronics,Health & Household,Camcorder Batteries,Camera & Photo,Batteries,Household Batteries,Robot Check,Accessories,Camera Batteries,Health and Beauty,Household Supplies,Batteries & Chargers,Health, Household & Baby Care,Health Personal Care   \n",
              "2  AA,AAA,Health,Electronics,Health & Household,Camcorder Batteries,Camera & Photo,Batteries,Household Batteries,Robot Check,Accessories,Camera Batteries,Health and Beauty,Household Supplies,Batteries & Chargers,Health, Household & Baby Care,Health Personal Care   \n",
              "3  AA,AAA,Health,Electronics,Health & Household,Camcorder Batteries,Camera & Photo,Batteries,Household Batteries,Robot Check,Accessories,Camera Batteries,Health and Beauty,Household Supplies,Batteries & Chargers,Health, Household & Baby Care,Health Personal Care   \n",
              "4  AA,AAA,Health,Electronics,Health & Household,Camcorder Batteries,Camera & Photo,Batteries,Household Batteries,Robot Check,Accessories,Camera Batteries,Health and Beauty,Household Supplies,Batteries & Chargers,Health, Household & Baby Care,Health Personal Care   \n",
              "5  AA,AAA,Health,Electronics,Health & Household,Camcorder Batteries,Camera & Photo,Batteries,Household Batteries,Robot Check,Accessories,Camera Batteries,Health and Beauty,Household Supplies,Batteries & Chargers,Health, Household & Baby Care,Health Personal Care   \n",
              "6  AA,AAA,Health,Electronics,Health & Household,Camcorder Batteries,Camera & Photo,Batteries,Household Batteries,Robot Check,Accessories,Camera Batteries,Health and Beauty,Household Supplies,Batteries & Chargers,Health, Household & Baby Care,Health Personal Care   \n",
              "7  AA,AAA,Health,Electronics,Health & Household,Camcorder Batteries,Camera & Photo,Batteries,Household Batteries,Robot Check,Accessories,Camera Batteries,Health and Beauty,Household Supplies,Batteries & Chargers,Health, Household & Baby Care,Health Personal Care   \n",
              "\n",
              "  primaryCategories  \\\n",
              "0   Health & Beauty   \n",
              "1   Health & Beauty   \n",
              "2   Health & Beauty   \n",
              "3   Health & Beauty   \n",
              "4   Health & Beauty   \n",
              "5   Health & Beauty   \n",
              "6   Health & Beauty   \n",
              "7   Health & Beauty   \n",
              "\n",
              "                                                                                                                                                                                                                                                                                                     imageURLs  \\\n",
              "0  https://images-na.ssl-images-amazon.com/images/I/81qmNyJo%2BkL._SL1500_.jpg,https://images-na.ssl-images-amazon.com/images/I/81ZTa1BrkzL._SL1500_.jpg,http://ecx.images-amazon.com/images/I/41pSoRu7UlL._SS40_.jpg,https://www.upccodesearch.com/images/barcode/0841710106442.png,https://images-na.ssl-...   \n",
              "1  https://images-na.ssl-images-amazon.com/images/I/81qmNyJo%2BkL._SL1500_.jpg,https://images-na.ssl-images-amazon.com/images/I/81ZTa1BrkzL._SL1500_.jpg,http://ecx.images-amazon.com/images/I/41pSoRu7UlL._SS40_.jpg,https://www.upccodesearch.com/images/barcode/0841710106442.png,https://images-na.ssl-...   \n",
              "2  https://images-na.ssl-images-amazon.com/images/I/81qmNyJo%2BkL._SL1500_.jpg,https://images-na.ssl-images-amazon.com/images/I/81ZTa1BrkzL._SL1500_.jpg,http://ecx.images-amazon.com/images/I/41pSoRu7UlL._SS40_.jpg,https://www.upccodesearch.com/images/barcode/0841710106442.png,https://images-na.ssl-...   \n",
              "3  https://images-na.ssl-images-amazon.com/images/I/81qmNyJo%2BkL._SL1500_.jpg,https://images-na.ssl-images-amazon.com/images/I/81ZTa1BrkzL._SL1500_.jpg,http://ecx.images-amazon.com/images/I/41pSoRu7UlL._SS40_.jpg,https://www.upccodesearch.com/images/barcode/0841710106442.png,https://images-na.ssl-...   \n",
              "4  https://images-na.ssl-images-amazon.com/images/I/81qmNyJo%2BkL._SL1500_.jpg,https://images-na.ssl-images-amazon.com/images/I/81ZTa1BrkzL._SL1500_.jpg,http://ecx.images-amazon.com/images/I/41pSoRu7UlL._SS40_.jpg,https://www.upccodesearch.com/images/barcode/0841710106442.png,https://images-na.ssl-...   \n",
              "5  https://images-na.ssl-images-amazon.com/images/I/81qmNyJo%2BkL._SL1500_.jpg,https://images-na.ssl-images-amazon.com/images/I/81ZTa1BrkzL._SL1500_.jpg,http://ecx.images-amazon.com/images/I/41pSoRu7UlL._SS40_.jpg,https://www.upccodesearch.com/images/barcode/0841710106442.png,https://images-na.ssl-...   \n",
              "6  https://images-na.ssl-images-amazon.com/images/I/81qmNyJo%2BkL._SL1500_.jpg,https://images-na.ssl-images-amazon.com/images/I/81ZTa1BrkzL._SL1500_.jpg,http://ecx.images-amazon.com/images/I/41pSoRu7UlL._SS40_.jpg,https://www.upccodesearch.com/images/barcode/0841710106442.png,https://images-na.ssl-...   \n",
              "7  https://images-na.ssl-images-amazon.com/images/I/81qmNyJo%2BkL._SL1500_.jpg,https://images-na.ssl-images-amazon.com/images/I/81ZTa1BrkzL._SL1500_.jpg,http://ecx.images-amazon.com/images/I/41pSoRu7UlL._SS40_.jpg,https://www.upccodesearch.com/images/barcode/0841710106442.png,https://images-na.ssl-...   \n",
              "\n",
              "                                                                                                                                                                           keys  \\\n",
              "0  amazonbasics/hl002619,amazonbasicsaaaperformancealkalinebatteries36count/b00lh3dmuo,0841710106442,841710106442,amazonbasicsaaaperformancealkalinebatteries36count/b00qwo9p0o   \n",
              "1  amazonbasics/hl002619,amazonbasicsaaaperformancealkalinebatteries36count/b00lh3dmuo,0841710106442,841710106442,amazonbasicsaaaperformancealkalinebatteries36count/b00qwo9p0o   \n",
              "2  amazonbasics/hl002619,amazonbasicsaaaperformancealkalinebatteries36count/b00lh3dmuo,0841710106442,841710106442,amazonbasicsaaaperformancealkalinebatteries36count/b00qwo9p0o   \n",
              "3  amazonbasics/hl002619,amazonbasicsaaaperformancealkalinebatteries36count/b00lh3dmuo,0841710106442,841710106442,amazonbasicsaaaperformancealkalinebatteries36count/b00qwo9p0o   \n",
              "4  amazonbasics/hl002619,amazonbasicsaaaperformancealkalinebatteries36count/b00lh3dmuo,0841710106442,841710106442,amazonbasicsaaaperformancealkalinebatteries36count/b00qwo9p0o   \n",
              "5  amazonbasics/hl002619,amazonbasicsaaaperformancealkalinebatteries36count/b00lh3dmuo,0841710106442,841710106442,amazonbasicsaaaperformancealkalinebatteries36count/b00qwo9p0o   \n",
              "6  amazonbasics/hl002619,amazonbasicsaaaperformancealkalinebatteries36count/b00lh3dmuo,0841710106442,841710106442,amazonbasicsaaaperformancealkalinebatteries36count/b00qwo9p0o   \n",
              "7  amazonbasics/hl002619,amazonbasicsaaaperformancealkalinebatteries36count/b00lh3dmuo,0841710106442,841710106442,amazonbasicsaaaperformancealkalinebatteries36count/b00qwo9p0o   \n",
              "\n",
              "   ... reviews.didPurchase reviews.doRecommend reviews.id reviews.numHelpful  \\\n",
              "0  ...                 NaN                 NaN        NaN                NaN   \n",
              "1  ...                 NaN                 NaN        NaN                NaN   \n",
              "2  ...                 NaN                 NaN        NaN                NaN   \n",
              "3  ...                 NaN                 NaN        NaN                NaN   \n",
              "4  ...                 NaN                 NaN        NaN                NaN   \n",
              "5  ...                 NaN                 NaN        NaN                NaN   \n",
              "6  ...                 NaN                 NaN        NaN                NaN   \n",
              "7  ...                 NaN                 NaN        NaN                NaN   \n",
              "\n",
              "  reviews.rating                                  reviews.sourceURLs  \\\n",
              "0              3  https://www.amazon.com/product-reviews/B00QWO9P0O/   \n",
              "1              4  https://www.amazon.com/product-reviews/B00QWO9P0O/   \n",
              "2              5  https://www.amazon.com/product-reviews/B00QWO9P0O/   \n",
              "3              5  https://www.amazon.com/product-reviews/B00QWO9P0O/   \n",
              "4              5  https://www.amazon.com/product-reviews/B00QWO9P0O/   \n",
              "5              5  https://www.amazon.com/product-reviews/B00QWO9P0O/   \n",
              "6              5  https://www.amazon.com/product-reviews/B00QWO9P0O/   \n",
              "7              5  https://www.amazon.com/product-reviews/B00QWO9P0O/   \n",
              "\n",
              "                                                                                                                                                                                                                                                                 reviews.text  \\\n",
              "0                                                                                                                                 I order 3 of them and one of the item is bad quality. Is missing backup spring so I have to put a pcs of aluminum to make the battery work.   \n",
              "1                                                                                                                                                                                                         Bulk is always the less expensive way to go for products like these   \n",
              "2                                                                                                                                                                                                                    Well they are not Duracell but for the price i am happy.   \n",
              "3                                                                                                                                                                                                         Seem to work as well as name brand batteries at a much better price   \n",
              "4                                                                                                                                                                                                                   These batteries are very long lasting the price is great.   \n",
              "5  Bought a lot of batteries for Christmas and the AmazonBasics Cell have been good. I haven't noticed a difference between the brand name batteries and the Amazon Basic brand. Just a lot easier to purchase and have arrive at the house and have on hand. Will buy again.   \n",
              "6                                                                                                                                                                              ive not had any problame with these batteries have ordered them in the past been very pleased.   \n",
              "7                                                                                                                                           Well if you are looking for cheap non-rechargeable batteries that last quite a while then these are perfect. Nothing more to say.   \n",
              "\n",
              "                                                                                                                reviews.title  \\\n",
              "0                                    ... 3 of them and one of the item is bad quality. Is missing backup spring so I have ...   \n",
              "1                                                                   ... always the less expensive way to go for products like   \n",
              "2                                                                          ... are not Duracell but for the price i am happy.   \n",
              "3                                                                        ... as well as name brand batteries at a much better   \n",
              "4                                                                     ... batteries are very long lasting the price is great.   \n",
              "5  ... batteries for Christmas and the AmazonBasics Cell have been good. I haven't noticed a difference between the brand ...   \n",
              "6                                                              ... batteries have ordered them in the past been very pleased.   \n",
              "7                                           ... batteries that last quite a while then these are perfect. Nothing more to say   \n",
              "\n",
              "    reviews.username  \\\n",
              "0         Byger yang   \n",
              "1               ByMG   \n",
              "2   BySharon Lambert   \n",
              "3      Bymark sexson   \n",
              "4            Bylinda   \n",
              "5   ByPainter Marlow   \n",
              "6  ByAmazon Customer   \n",
              "7  ByLynn Pendegrass   \n",
              "\n",
              "                                                                                                                                                                                                                                                                                                    sourceURLs  \n",
              "0  https://www.barcodable.com/upc/841710106442,https://www.amazon.com/AmazonBasics-Performance-Alkaline-Batteries-Count/dp/B00LH3DMUO/,https://www.amazon.com/AmazonBasics-Performance-Alkaline-Batteries-Count/dp/B00LH3DMUO,https://www.amazon.com/AmazonBasics-Performance-Alkaline-Batteries-36-Pack/dp...  \n",
              "1  https://www.barcodable.com/upc/841710106442,https://www.amazon.com/AmazonBasics-Performance-Alkaline-Batteries-Count/dp/B00LH3DMUO/,https://www.amazon.com/AmazonBasics-Performance-Alkaline-Batteries-Count/dp/B00LH3DMUO,https://www.amazon.com/AmazonBasics-Performance-Alkaline-Batteries-36-Pack/dp...  \n",
              "2  https://www.barcodable.com/upc/841710106442,https://www.amazon.com/AmazonBasics-Performance-Alkaline-Batteries-Count/dp/B00LH3DMUO/,https://www.amazon.com/AmazonBasics-Performance-Alkaline-Batteries-Count/dp/B00LH3DMUO,https://www.amazon.com/AmazonBasics-Performance-Alkaline-Batteries-36-Pack/dp...  \n",
              "3  https://www.barcodable.com/upc/841710106442,https://www.amazon.com/AmazonBasics-Performance-Alkaline-Batteries-Count/dp/B00LH3DMUO/,https://www.amazon.com/AmazonBasics-Performance-Alkaline-Batteries-Count/dp/B00LH3DMUO,https://www.amazon.com/AmazonBasics-Performance-Alkaline-Batteries-36-Pack/dp...  \n",
              "4  https://www.barcodable.com/upc/841710106442,https://www.amazon.com/AmazonBasics-Performance-Alkaline-Batteries-Count/dp/B00LH3DMUO/,https://www.amazon.com/AmazonBasics-Performance-Alkaline-Batteries-Count/dp/B00LH3DMUO,https://www.amazon.com/AmazonBasics-Performance-Alkaline-Batteries-36-Pack/dp...  \n",
              "5  https://www.barcodable.com/upc/841710106442,https://www.amazon.com/AmazonBasics-Performance-Alkaline-Batteries-Count/dp/B00LH3DMUO/,https://www.amazon.com/AmazonBasics-Performance-Alkaline-Batteries-Count/dp/B00LH3DMUO,https://www.amazon.com/AmazonBasics-Performance-Alkaline-Batteries-36-Pack/dp...  \n",
              "6  https://www.barcodable.com/upc/841710106442,https://www.amazon.com/AmazonBasics-Performance-Alkaline-Batteries-Count/dp/B00LH3DMUO/,https://www.amazon.com/AmazonBasics-Performance-Alkaline-Batteries-Count/dp/B00LH3DMUO,https://www.amazon.com/AmazonBasics-Performance-Alkaline-Batteries-36-Pack/dp...  \n",
              "7  https://www.barcodable.com/upc/841710106442,https://www.amazon.com/AmazonBasics-Performance-Alkaline-Batteries-Count/dp/B00LH3DMUO/,https://www.amazon.com/AmazonBasics-Performance-Alkaline-Batteries-Count/dp/B00LH3DMUO,https://www.amazon.com/AmazonBasics-Performance-Alkaline-Batteries-36-Pack/dp...  \n",
              "\n",
              "[8 rows x 24 columns]"
            ],
            "text/html": [
              "\n",
              "  <div id=\"df-46573add-32e5-4689-87bd-84774db2ef01\" class=\"colab-df-container\">\n",
              "    <div>\n",
              "<style scoped>\n",
              "    .dataframe tbody tr th:only-of-type {\n",
              "        vertical-align: middle;\n",
              "    }\n",
              "\n",
              "    .dataframe tbody tr th {\n",
              "        vertical-align: top;\n",
              "    }\n",
              "\n",
              "    .dataframe thead th {\n",
              "        text-align: right;\n",
              "    }\n",
              "</style>\n",
              "<table border=\"1\" class=\"dataframe\">\n",
              "  <thead>\n",
              "    <tr style=\"text-align: right;\">\n",
              "      <th></th>\n",
              "      <th>id</th>\n",
              "      <th>dateAdded</th>\n",
              "      <th>dateUpdated</th>\n",
              "      <th>name</th>\n",
              "      <th>asins</th>\n",
              "      <th>brand</th>\n",
              "      <th>categories</th>\n",
              "      <th>primaryCategories</th>\n",
              "      <th>imageURLs</th>\n",
              "      <th>keys</th>\n",
              "      <th>...</th>\n",
              "      <th>reviews.didPurchase</th>\n",
              "      <th>reviews.doRecommend</th>\n",
              "      <th>reviews.id</th>\n",
              "      <th>reviews.numHelpful</th>\n",
              "      <th>reviews.rating</th>\n",
              "      <th>reviews.sourceURLs</th>\n",
              "      <th>reviews.text</th>\n",
              "      <th>reviews.title</th>\n",
              "      <th>reviews.username</th>\n",
              "      <th>sourceURLs</th>\n",
              "    </tr>\n",
              "  </thead>\n",
              "  <tbody>\n",
              "    <tr>\n",
              "      <th>0</th>\n",
              "      <td>AVpgNzjwLJeJML43Kpxn</td>\n",
              "      <td>2015-10-30T08:59:32Z</td>\n",
              "      <td>2019-04-25T09:08:16Z</td>\n",
              "      <td>AmazonBasics AAA Performance Alkaline Batteries (36 Count)</td>\n",
              "      <td>B00QWO9P0O,B00LH3DMUO</td>\n",
              "      <td>Amazonbasics</td>\n",
              "      <td>AA,AAA,Health,Electronics,Health &amp; Household,Camcorder Batteries,Camera &amp; Photo,Batteries,Household Batteries,Robot Check,Accessories,Camera Batteries,Health and Beauty,Household Supplies,Batteries &amp; Chargers,Health, Household &amp; Baby Care,Health Personal Care</td>\n",
              "      <td>Health &amp; Beauty</td>\n",
              "      <td>https://images-na.ssl-images-amazon.com/images/I/81qmNyJo%2BkL._SL1500_.jpg,https://images-na.ssl-images-amazon.com/images/I/81ZTa1BrkzL._SL1500_.jpg,http://ecx.images-amazon.com/images/I/41pSoRu7UlL._SS40_.jpg,https://www.upccodesearch.com/images/barcode/0841710106442.png,https://images-na.ssl-...</td>\n",
              "      <td>amazonbasics/hl002619,amazonbasicsaaaperformancealkalinebatteries36count/b00lh3dmuo,0841710106442,841710106442,amazonbasicsaaaperformancealkalinebatteries36count/b00qwo9p0o</td>\n",
              "      <td>...</td>\n",
              "      <td>NaN</td>\n",
              "      <td>NaN</td>\n",
              "      <td>NaN</td>\n",
              "      <td>NaN</td>\n",
              "      <td>3</td>\n",
              "      <td>https://www.amazon.com/product-reviews/B00QWO9P0O/</td>\n",
              "      <td>I order 3 of them and one of the item is bad quality. Is missing backup spring so I have to put a pcs of aluminum to make the battery work.</td>\n",
              "      <td>... 3 of them and one of the item is bad quality. Is missing backup spring so I have ...</td>\n",
              "      <td>Byger yang</td>\n",
              "      <td>https://www.barcodable.com/upc/841710106442,https://www.amazon.com/AmazonBasics-Performance-Alkaline-Batteries-Count/dp/B00LH3DMUO/,https://www.amazon.com/AmazonBasics-Performance-Alkaline-Batteries-Count/dp/B00LH3DMUO,https://www.amazon.com/AmazonBasics-Performance-Alkaline-Batteries-36-Pack/dp...</td>\n",
              "    </tr>\n",
              "    <tr>\n",
              "      <th>1</th>\n",
              "      <td>AVpgNzjwLJeJML43Kpxn</td>\n",
              "      <td>2015-10-30T08:59:32Z</td>\n",
              "      <td>2019-04-25T09:08:16Z</td>\n",
              "      <td>AmazonBasics AAA Performance Alkaline Batteries (36 Count)</td>\n",
              "      <td>B00QWO9P0O,B00LH3DMUO</td>\n",
              "      <td>Amazonbasics</td>\n",
              "      <td>AA,AAA,Health,Electronics,Health &amp; Household,Camcorder Batteries,Camera &amp; Photo,Batteries,Household Batteries,Robot Check,Accessories,Camera Batteries,Health and Beauty,Household Supplies,Batteries &amp; Chargers,Health, Household &amp; Baby Care,Health Personal Care</td>\n",
              "      <td>Health &amp; Beauty</td>\n",
              "      <td>https://images-na.ssl-images-amazon.com/images/I/81qmNyJo%2BkL._SL1500_.jpg,https://images-na.ssl-images-amazon.com/images/I/81ZTa1BrkzL._SL1500_.jpg,http://ecx.images-amazon.com/images/I/41pSoRu7UlL._SS40_.jpg,https://www.upccodesearch.com/images/barcode/0841710106442.png,https://images-na.ssl-...</td>\n",
              "      <td>amazonbasics/hl002619,amazonbasicsaaaperformancealkalinebatteries36count/b00lh3dmuo,0841710106442,841710106442,amazonbasicsaaaperformancealkalinebatteries36count/b00qwo9p0o</td>\n",
              "      <td>...</td>\n",
              "      <td>NaN</td>\n",
              "      <td>NaN</td>\n",
              "      <td>NaN</td>\n",
              "      <td>NaN</td>\n",
              "      <td>4</td>\n",
              "      <td>https://www.amazon.com/product-reviews/B00QWO9P0O/</td>\n",
              "      <td>Bulk is always the less expensive way to go for products like these</td>\n",
              "      <td>... always the less expensive way to go for products like</td>\n",
              "      <td>ByMG</td>\n",
              "      <td>https://www.barcodable.com/upc/841710106442,https://www.amazon.com/AmazonBasics-Performance-Alkaline-Batteries-Count/dp/B00LH3DMUO/,https://www.amazon.com/AmazonBasics-Performance-Alkaline-Batteries-Count/dp/B00LH3DMUO,https://www.amazon.com/AmazonBasics-Performance-Alkaline-Batteries-36-Pack/dp...</td>\n",
              "    </tr>\n",
              "    <tr>\n",
              "      <th>2</th>\n",
              "      <td>AVpgNzjwLJeJML43Kpxn</td>\n",
              "      <td>2015-10-30T08:59:32Z</td>\n",
              "      <td>2019-04-25T09:08:16Z</td>\n",
              "      <td>AmazonBasics AAA Performance Alkaline Batteries (36 Count)</td>\n",
              "      <td>B00QWO9P0O,B00LH3DMUO</td>\n",
              "      <td>Amazonbasics</td>\n",
              "      <td>AA,AAA,Health,Electronics,Health &amp; Household,Camcorder Batteries,Camera &amp; Photo,Batteries,Household Batteries,Robot Check,Accessories,Camera Batteries,Health and Beauty,Household Supplies,Batteries &amp; Chargers,Health, Household &amp; Baby Care,Health Personal Care</td>\n",
              "      <td>Health &amp; Beauty</td>\n",
              "      <td>https://images-na.ssl-images-amazon.com/images/I/81qmNyJo%2BkL._SL1500_.jpg,https://images-na.ssl-images-amazon.com/images/I/81ZTa1BrkzL._SL1500_.jpg,http://ecx.images-amazon.com/images/I/41pSoRu7UlL._SS40_.jpg,https://www.upccodesearch.com/images/barcode/0841710106442.png,https://images-na.ssl-...</td>\n",
              "      <td>amazonbasics/hl002619,amazonbasicsaaaperformancealkalinebatteries36count/b00lh3dmuo,0841710106442,841710106442,amazonbasicsaaaperformancealkalinebatteries36count/b00qwo9p0o</td>\n",
              "      <td>...</td>\n",
              "      <td>NaN</td>\n",
              "      <td>NaN</td>\n",
              "      <td>NaN</td>\n",
              "      <td>NaN</td>\n",
              "      <td>5</td>\n",
              "      <td>https://www.amazon.com/product-reviews/B00QWO9P0O/</td>\n",
              "      <td>Well they are not Duracell but for the price i am happy.</td>\n",
              "      <td>... are not Duracell but for the price i am happy.</td>\n",
              "      <td>BySharon Lambert</td>\n",
              "      <td>https://www.barcodable.com/upc/841710106442,https://www.amazon.com/AmazonBasics-Performance-Alkaline-Batteries-Count/dp/B00LH3DMUO/,https://www.amazon.com/AmazonBasics-Performance-Alkaline-Batteries-Count/dp/B00LH3DMUO,https://www.amazon.com/AmazonBasics-Performance-Alkaline-Batteries-36-Pack/dp...</td>\n",
              "    </tr>\n",
              "    <tr>\n",
              "      <th>3</th>\n",
              "      <td>AVpgNzjwLJeJML43Kpxn</td>\n",
              "      <td>2015-10-30T08:59:32Z</td>\n",
              "      <td>2019-04-25T09:08:16Z</td>\n",
              "      <td>AmazonBasics AAA Performance Alkaline Batteries (36 Count)</td>\n",
              "      <td>B00QWO9P0O,B00LH3DMUO</td>\n",
              "      <td>Amazonbasics</td>\n",
              "      <td>AA,AAA,Health,Electronics,Health &amp; Household,Camcorder Batteries,Camera &amp; Photo,Batteries,Household Batteries,Robot Check,Accessories,Camera Batteries,Health and Beauty,Household Supplies,Batteries &amp; Chargers,Health, Household &amp; Baby Care,Health Personal Care</td>\n",
              "      <td>Health &amp; Beauty</td>\n",
              "      <td>https://images-na.ssl-images-amazon.com/images/I/81qmNyJo%2BkL._SL1500_.jpg,https://images-na.ssl-images-amazon.com/images/I/81ZTa1BrkzL._SL1500_.jpg,http://ecx.images-amazon.com/images/I/41pSoRu7UlL._SS40_.jpg,https://www.upccodesearch.com/images/barcode/0841710106442.png,https://images-na.ssl-...</td>\n",
              "      <td>amazonbasics/hl002619,amazonbasicsaaaperformancealkalinebatteries36count/b00lh3dmuo,0841710106442,841710106442,amazonbasicsaaaperformancealkalinebatteries36count/b00qwo9p0o</td>\n",
              "      <td>...</td>\n",
              "      <td>NaN</td>\n",
              "      <td>NaN</td>\n",
              "      <td>NaN</td>\n",
              "      <td>NaN</td>\n",
              "      <td>5</td>\n",
              "      <td>https://www.amazon.com/product-reviews/B00QWO9P0O/</td>\n",
              "      <td>Seem to work as well as name brand batteries at a much better price</td>\n",
              "      <td>... as well as name brand batteries at a much better</td>\n",
              "      <td>Bymark sexson</td>\n",
              "      <td>https://www.barcodable.com/upc/841710106442,https://www.amazon.com/AmazonBasics-Performance-Alkaline-Batteries-Count/dp/B00LH3DMUO/,https://www.amazon.com/AmazonBasics-Performance-Alkaline-Batteries-Count/dp/B00LH3DMUO,https://www.amazon.com/AmazonBasics-Performance-Alkaline-Batteries-36-Pack/dp...</td>\n",
              "    </tr>\n",
              "    <tr>\n",
              "      <th>4</th>\n",
              "      <td>AVpgNzjwLJeJML43Kpxn</td>\n",
              "      <td>2015-10-30T08:59:32Z</td>\n",
              "      <td>2019-04-25T09:08:16Z</td>\n",
              "      <td>AmazonBasics AAA Performance Alkaline Batteries (36 Count)</td>\n",
              "      <td>B00QWO9P0O,B00LH3DMUO</td>\n",
              "      <td>Amazonbasics</td>\n",
              "      <td>AA,AAA,Health,Electronics,Health &amp; Household,Camcorder Batteries,Camera &amp; Photo,Batteries,Household Batteries,Robot Check,Accessories,Camera Batteries,Health and Beauty,Household Supplies,Batteries &amp; Chargers,Health, Household &amp; Baby Care,Health Personal Care</td>\n",
              "      <td>Health &amp; Beauty</td>\n",
              "      <td>https://images-na.ssl-images-amazon.com/images/I/81qmNyJo%2BkL._SL1500_.jpg,https://images-na.ssl-images-amazon.com/images/I/81ZTa1BrkzL._SL1500_.jpg,http://ecx.images-amazon.com/images/I/41pSoRu7UlL._SS40_.jpg,https://www.upccodesearch.com/images/barcode/0841710106442.png,https://images-na.ssl-...</td>\n",
              "      <td>amazonbasics/hl002619,amazonbasicsaaaperformancealkalinebatteries36count/b00lh3dmuo,0841710106442,841710106442,amazonbasicsaaaperformancealkalinebatteries36count/b00qwo9p0o</td>\n",
              "      <td>...</td>\n",
              "      <td>NaN</td>\n",
              "      <td>NaN</td>\n",
              "      <td>NaN</td>\n",
              "      <td>NaN</td>\n",
              "      <td>5</td>\n",
              "      <td>https://www.amazon.com/product-reviews/B00QWO9P0O/</td>\n",
              "      <td>These batteries are very long lasting the price is great.</td>\n",
              "      <td>... batteries are very long lasting the price is great.</td>\n",
              "      <td>Bylinda</td>\n",
              "      <td>https://www.barcodable.com/upc/841710106442,https://www.amazon.com/AmazonBasics-Performance-Alkaline-Batteries-Count/dp/B00LH3DMUO/,https://www.amazon.com/AmazonBasics-Performance-Alkaline-Batteries-Count/dp/B00LH3DMUO,https://www.amazon.com/AmazonBasics-Performance-Alkaline-Batteries-36-Pack/dp...</td>\n",
              "    </tr>\n",
              "    <tr>\n",
              "      <th>5</th>\n",
              "      <td>AVpgNzjwLJeJML43Kpxn</td>\n",
              "      <td>2015-10-30T08:59:32Z</td>\n",
              "      <td>2019-04-25T09:08:16Z</td>\n",
              "      <td>AmazonBasics AAA Performance Alkaline Batteries (36 Count)</td>\n",
              "      <td>B00QWO9P0O,B00LH3DMUO</td>\n",
              "      <td>Amazonbasics</td>\n",
              "      <td>AA,AAA,Health,Electronics,Health &amp; Household,Camcorder Batteries,Camera &amp; Photo,Batteries,Household Batteries,Robot Check,Accessories,Camera Batteries,Health and Beauty,Household Supplies,Batteries &amp; Chargers,Health, Household &amp; Baby Care,Health Personal Care</td>\n",
              "      <td>Health &amp; Beauty</td>\n",
              "      <td>https://images-na.ssl-images-amazon.com/images/I/81qmNyJo%2BkL._SL1500_.jpg,https://images-na.ssl-images-amazon.com/images/I/81ZTa1BrkzL._SL1500_.jpg,http://ecx.images-amazon.com/images/I/41pSoRu7UlL._SS40_.jpg,https://www.upccodesearch.com/images/barcode/0841710106442.png,https://images-na.ssl-...</td>\n",
              "      <td>amazonbasics/hl002619,amazonbasicsaaaperformancealkalinebatteries36count/b00lh3dmuo,0841710106442,841710106442,amazonbasicsaaaperformancealkalinebatteries36count/b00qwo9p0o</td>\n",
              "      <td>...</td>\n",
              "      <td>NaN</td>\n",
              "      <td>NaN</td>\n",
              "      <td>NaN</td>\n",
              "      <td>NaN</td>\n",
              "      <td>5</td>\n",
              "      <td>https://www.amazon.com/product-reviews/B00QWO9P0O/</td>\n",
              "      <td>Bought a lot of batteries for Christmas and the AmazonBasics Cell have been good. I haven't noticed a difference between the brand name batteries and the Amazon Basic brand. Just a lot easier to purchase and have arrive at the house and have on hand. Will buy again.</td>\n",
              "      <td>... batteries for Christmas and the AmazonBasics Cell have been good. I haven't noticed a difference between the brand ...</td>\n",
              "      <td>ByPainter Marlow</td>\n",
              "      <td>https://www.barcodable.com/upc/841710106442,https://www.amazon.com/AmazonBasics-Performance-Alkaline-Batteries-Count/dp/B00LH3DMUO/,https://www.amazon.com/AmazonBasics-Performance-Alkaline-Batteries-Count/dp/B00LH3DMUO,https://www.amazon.com/AmazonBasics-Performance-Alkaline-Batteries-36-Pack/dp...</td>\n",
              "    </tr>\n",
              "    <tr>\n",
              "      <th>6</th>\n",
              "      <td>AVpgNzjwLJeJML43Kpxn</td>\n",
              "      <td>2015-10-30T08:59:32Z</td>\n",
              "      <td>2019-04-25T09:08:16Z</td>\n",
              "      <td>AmazonBasics AAA Performance Alkaline Batteries (36 Count)</td>\n",
              "      <td>B00QWO9P0O,B00LH3DMUO</td>\n",
              "      <td>Amazonbasics</td>\n",
              "      <td>AA,AAA,Health,Electronics,Health &amp; Household,Camcorder Batteries,Camera &amp; Photo,Batteries,Household Batteries,Robot Check,Accessories,Camera Batteries,Health and Beauty,Household Supplies,Batteries &amp; Chargers,Health, Household &amp; Baby Care,Health Personal Care</td>\n",
              "      <td>Health &amp; Beauty</td>\n",
              "      <td>https://images-na.ssl-images-amazon.com/images/I/81qmNyJo%2BkL._SL1500_.jpg,https://images-na.ssl-images-amazon.com/images/I/81ZTa1BrkzL._SL1500_.jpg,http://ecx.images-amazon.com/images/I/41pSoRu7UlL._SS40_.jpg,https://www.upccodesearch.com/images/barcode/0841710106442.png,https://images-na.ssl-...</td>\n",
              "      <td>amazonbasics/hl002619,amazonbasicsaaaperformancealkalinebatteries36count/b00lh3dmuo,0841710106442,841710106442,amazonbasicsaaaperformancealkalinebatteries36count/b00qwo9p0o</td>\n",
              "      <td>...</td>\n",
              "      <td>NaN</td>\n",
              "      <td>NaN</td>\n",
              "      <td>NaN</td>\n",
              "      <td>NaN</td>\n",
              "      <td>5</td>\n",
              "      <td>https://www.amazon.com/product-reviews/B00QWO9P0O/</td>\n",
              "      <td>ive not had any problame with these batteries have ordered them in the past been very pleased.</td>\n",
              "      <td>... batteries have ordered them in the past been very pleased.</td>\n",
              "      <td>ByAmazon Customer</td>\n",
              "      <td>https://www.barcodable.com/upc/841710106442,https://www.amazon.com/AmazonBasics-Performance-Alkaline-Batteries-Count/dp/B00LH3DMUO/,https://www.amazon.com/AmazonBasics-Performance-Alkaline-Batteries-Count/dp/B00LH3DMUO,https://www.amazon.com/AmazonBasics-Performance-Alkaline-Batteries-36-Pack/dp...</td>\n",
              "    </tr>\n",
              "    <tr>\n",
              "      <th>7</th>\n",
              "      <td>AVpgNzjwLJeJML43Kpxn</td>\n",
              "      <td>2015-10-30T08:59:32Z</td>\n",
              "      <td>2019-04-25T09:08:16Z</td>\n",
              "      <td>AmazonBasics AAA Performance Alkaline Batteries (36 Count)</td>\n",
              "      <td>B00QWO9P0O,B00LH3DMUO</td>\n",
              "      <td>Amazonbasics</td>\n",
              "      <td>AA,AAA,Health,Electronics,Health &amp; Household,Camcorder Batteries,Camera &amp; Photo,Batteries,Household Batteries,Robot Check,Accessories,Camera Batteries,Health and Beauty,Household Supplies,Batteries &amp; Chargers,Health, Household &amp; Baby Care,Health Personal Care</td>\n",
              "      <td>Health &amp; Beauty</td>\n",
              "      <td>https://images-na.ssl-images-amazon.com/images/I/81qmNyJo%2BkL._SL1500_.jpg,https://images-na.ssl-images-amazon.com/images/I/81ZTa1BrkzL._SL1500_.jpg,http://ecx.images-amazon.com/images/I/41pSoRu7UlL._SS40_.jpg,https://www.upccodesearch.com/images/barcode/0841710106442.png,https://images-na.ssl-...</td>\n",
              "      <td>amazonbasics/hl002619,amazonbasicsaaaperformancealkalinebatteries36count/b00lh3dmuo,0841710106442,841710106442,amazonbasicsaaaperformancealkalinebatteries36count/b00qwo9p0o</td>\n",
              "      <td>...</td>\n",
              "      <td>NaN</td>\n",
              "      <td>NaN</td>\n",
              "      <td>NaN</td>\n",
              "      <td>NaN</td>\n",
              "      <td>5</td>\n",
              "      <td>https://www.amazon.com/product-reviews/B00QWO9P0O/</td>\n",
              "      <td>Well if you are looking for cheap non-rechargeable batteries that last quite a while then these are perfect. Nothing more to say.</td>\n",
              "      <td>... batteries that last quite a while then these are perfect. Nothing more to say</td>\n",
              "      <td>ByLynn Pendegrass</td>\n",
              "      <td>https://www.barcodable.com/upc/841710106442,https://www.amazon.com/AmazonBasics-Performance-Alkaline-Batteries-Count/dp/B00LH3DMUO/,https://www.amazon.com/AmazonBasics-Performance-Alkaline-Batteries-Count/dp/B00LH3DMUO,https://www.amazon.com/AmazonBasics-Performance-Alkaline-Batteries-36-Pack/dp...</td>\n",
              "    </tr>\n",
              "  </tbody>\n",
              "</table>\n",
              "<p>8 rows × 24 columns</p>\n",
              "</div>\n",
              "    <div class=\"colab-df-buttons\">\n",
              "\n",
              "  <div class=\"colab-df-container\">\n",
              "    <button class=\"colab-df-convert\" onclick=\"convertToInteractive('df-46573add-32e5-4689-87bd-84774db2ef01')\"\n",
              "            title=\"Convert this dataframe to an interactive table.\"\n",
              "            style=\"display:none;\">\n",
              "\n",
              "  <svg xmlns=\"http://www.w3.org/2000/svg\" height=\"24px\" viewBox=\"0 -960 960 960\">\n",
              "    <path d=\"M120-120v-720h720v720H120Zm60-500h600v-160H180v160Zm220 220h160v-160H400v160Zm0 220h160v-160H400v160ZM180-400h160v-160H180v160Zm440 0h160v-160H620v160ZM180-180h160v-160H180v160Zm440 0h160v-160H620v160Z\"/>\n",
              "  </svg>\n",
              "    </button>\n",
              "\n",
              "  <style>\n",
              "    .colab-df-container {\n",
              "      display:flex;\n",
              "      gap: 12px;\n",
              "    }\n",
              "\n",
              "    .colab-df-convert {\n",
              "      background-color: #E8F0FE;\n",
              "      border: none;\n",
              "      border-radius: 50%;\n",
              "      cursor: pointer;\n",
              "      display: none;\n",
              "      fill: #1967D2;\n",
              "      height: 32px;\n",
              "      padding: 0 0 0 0;\n",
              "      width: 32px;\n",
              "    }\n",
              "\n",
              "    .colab-df-convert:hover {\n",
              "      background-color: #E2EBFA;\n",
              "      box-shadow: 0px 1px 2px rgba(60, 64, 67, 0.3), 0px 1px 3px 1px rgba(60, 64, 67, 0.15);\n",
              "      fill: #174EA6;\n",
              "    }\n",
              "\n",
              "    .colab-df-buttons div {\n",
              "      margin-bottom: 4px;\n",
              "    }\n",
              "\n",
              "    [theme=dark] .colab-df-convert {\n",
              "      background-color: #3B4455;\n",
              "      fill: #D2E3FC;\n",
              "    }\n",
              "\n",
              "    [theme=dark] .colab-df-convert:hover {\n",
              "      background-color: #434B5C;\n",
              "      box-shadow: 0px 1px 3px 1px rgba(0, 0, 0, 0.15);\n",
              "      filter: drop-shadow(0px 1px 2px rgba(0, 0, 0, 0.3));\n",
              "      fill: #FFFFFF;\n",
              "    }\n",
              "  </style>\n",
              "\n",
              "    <script>\n",
              "      const buttonEl =\n",
              "        document.querySelector('#df-46573add-32e5-4689-87bd-84774db2ef01 button.colab-df-convert');\n",
              "      buttonEl.style.display =\n",
              "        google.colab.kernel.accessAllowed ? 'block' : 'none';\n",
              "\n",
              "      async function convertToInteractive(key) {\n",
              "        const element = document.querySelector('#df-46573add-32e5-4689-87bd-84774db2ef01');\n",
              "        const dataTable =\n",
              "          await google.colab.kernel.invokeFunction('convertToInteractive',\n",
              "                                                    [key], {});\n",
              "        if (!dataTable) return;\n",
              "\n",
              "        const docLinkHtml = 'Like what you see? Visit the ' +\n",
              "          '<a target=\"_blank\" href=https://colab.research.google.com/notebooks/data_table.ipynb>data table notebook</a>'\n",
              "          + ' to learn more about interactive tables.';\n",
              "        element.innerHTML = '';\n",
              "        dataTable['output_type'] = 'display_data';\n",
              "        await google.colab.output.renderOutput(dataTable, element);\n",
              "        const docLink = document.createElement('div');\n",
              "        docLink.innerHTML = docLinkHtml;\n",
              "        element.appendChild(docLink);\n",
              "      }\n",
              "    </script>\n",
              "  </div>\n",
              "\n",
              "\n",
              "<div id=\"df-02cf216d-e802-4e1d-aab4-856d1f42cdbc\">\n",
              "  <button class=\"colab-df-quickchart\" onclick=\"quickchart('df-02cf216d-e802-4e1d-aab4-856d1f42cdbc')\"\n",
              "            title=\"Suggest charts\"\n",
              "            style=\"display:none;\">\n",
              "\n",
              "<svg xmlns=\"http://www.w3.org/2000/svg\" height=\"24px\"viewBox=\"0 0 24 24\"\n",
              "     width=\"24px\">\n",
              "    <g>\n",
              "        <path d=\"M19 3H5c-1.1 0-2 .9-2 2v14c0 1.1.9 2 2 2h14c1.1 0 2-.9 2-2V5c0-1.1-.9-2-2-2zM9 17H7v-7h2v7zm4 0h-2V7h2v10zm4 0h-2v-4h2v4z\"/>\n",
              "    </g>\n",
              "</svg>\n",
              "  </button>\n",
              "\n",
              "<style>\n",
              "  .colab-df-quickchart {\n",
              "      --bg-color: #E8F0FE;\n",
              "      --fill-color: #1967D2;\n",
              "      --hover-bg-color: #E2EBFA;\n",
              "      --hover-fill-color: #174EA6;\n",
              "      --disabled-fill-color: #AAA;\n",
              "      --disabled-bg-color: #DDD;\n",
              "  }\n",
              "\n",
              "  [theme=dark] .colab-df-quickchart {\n",
              "      --bg-color: #3B4455;\n",
              "      --fill-color: #D2E3FC;\n",
              "      --hover-bg-color: #434B5C;\n",
              "      --hover-fill-color: #FFFFFF;\n",
              "      --disabled-bg-color: #3B4455;\n",
              "      --disabled-fill-color: #666;\n",
              "  }\n",
              "\n",
              "  .colab-df-quickchart {\n",
              "    background-color: var(--bg-color);\n",
              "    border: none;\n",
              "    border-radius: 50%;\n",
              "    cursor: pointer;\n",
              "    display: none;\n",
              "    fill: var(--fill-color);\n",
              "    height: 32px;\n",
              "    padding: 0;\n",
              "    width: 32px;\n",
              "  }\n",
              "\n",
              "  .colab-df-quickchart:hover {\n",
              "    background-color: var(--hover-bg-color);\n",
              "    box-shadow: 0 1px 2px rgba(60, 64, 67, 0.3), 0 1px 3px 1px rgba(60, 64, 67, 0.15);\n",
              "    fill: var(--button-hover-fill-color);\n",
              "  }\n",
              "\n",
              "  .colab-df-quickchart-complete:disabled,\n",
              "  .colab-df-quickchart-complete:disabled:hover {\n",
              "    background-color: var(--disabled-bg-color);\n",
              "    fill: var(--disabled-fill-color);\n",
              "    box-shadow: none;\n",
              "  }\n",
              "\n",
              "  .colab-df-spinner {\n",
              "    border: 2px solid var(--fill-color);\n",
              "    border-color: transparent;\n",
              "    border-bottom-color: var(--fill-color);\n",
              "    animation:\n",
              "      spin 1s steps(1) infinite;\n",
              "  }\n",
              "\n",
              "  @keyframes spin {\n",
              "    0% {\n",
              "      border-color: transparent;\n",
              "      border-bottom-color: var(--fill-color);\n",
              "      border-left-color: var(--fill-color);\n",
              "    }\n",
              "    20% {\n",
              "      border-color: transparent;\n",
              "      border-left-color: var(--fill-color);\n",
              "      border-top-color: var(--fill-color);\n",
              "    }\n",
              "    30% {\n",
              "      border-color: transparent;\n",
              "      border-left-color: var(--fill-color);\n",
              "      border-top-color: var(--fill-color);\n",
              "      border-right-color: var(--fill-color);\n",
              "    }\n",
              "    40% {\n",
              "      border-color: transparent;\n",
              "      border-right-color: var(--fill-color);\n",
              "      border-top-color: var(--fill-color);\n",
              "    }\n",
              "    60% {\n",
              "      border-color: transparent;\n",
              "      border-right-color: var(--fill-color);\n",
              "    }\n",
              "    80% {\n",
              "      border-color: transparent;\n",
              "      border-right-color: var(--fill-color);\n",
              "      border-bottom-color: var(--fill-color);\n",
              "    }\n",
              "    90% {\n",
              "      border-color: transparent;\n",
              "      border-bottom-color: var(--fill-color);\n",
              "    }\n",
              "  }\n",
              "</style>\n",
              "\n",
              "  <script>\n",
              "    async function quickchart(key) {\n",
              "      const quickchartButtonEl =\n",
              "        document.querySelector('#' + key + ' button');\n",
              "      quickchartButtonEl.disabled = true;  // To prevent multiple clicks.\n",
              "      quickchartButtonEl.classList.add('colab-df-spinner');\n",
              "      try {\n",
              "        const charts = await google.colab.kernel.invokeFunction(\n",
              "            'suggestCharts', [key], {});\n",
              "      } catch (error) {\n",
              "        console.error('Error during call to suggestCharts:', error);\n",
              "      }\n",
              "      quickchartButtonEl.classList.remove('colab-df-spinner');\n",
              "      quickchartButtonEl.classList.add('colab-df-quickchart-complete');\n",
              "    }\n",
              "    (() => {\n",
              "      let quickchartButtonEl =\n",
              "        document.querySelector('#df-02cf216d-e802-4e1d-aab4-856d1f42cdbc button');\n",
              "      quickchartButtonEl.style.display =\n",
              "        google.colab.kernel.accessAllowed ? 'block' : 'none';\n",
              "    })();\n",
              "  </script>\n",
              "</div>\n",
              "\n",
              "    </div>\n",
              "  </div>\n"
            ],
            "application/vnd.google.colaboratory.intrinsic+json": {
              "type": "dataframe",
              "variable_name": "df"
            }
          },
          "metadata": {},
          "execution_count": 14
        }
      ],
      "source": [
        "df.head(8)"
      ]
    },
    {
      "cell_type": "code",
      "execution_count": null,
      "id": "ed108ddc",
      "metadata": {
        "id": "ed108ddc",
        "colab": {
          "base_uri": "https://localhost:8080/"
        },
        "outputId": "6003ac98-6c69-4671-d22d-e63808c26836"
      },
      "outputs": [
        {
          "output_type": "execute_result",
          "data": {
            "text/plain": [
              "Index(['id', 'dateAdded', 'dateUpdated', 'name', 'asins', 'brand',\n",
              "       'categories', 'primaryCategories', 'imageURLs', 'keys', 'manufacturer',\n",
              "       'manufacturerNumber', 'reviews.date', 'reviews.dateSeen',\n",
              "       'reviews.didPurchase', 'reviews.doRecommend', 'reviews.id',\n",
              "       'reviews.numHelpful', 'reviews.rating', 'reviews.sourceURLs',\n",
              "       'reviews.text', 'reviews.title', 'reviews.username', 'sourceURLs'],\n",
              "      dtype='object')"
            ]
          },
          "metadata": {},
          "execution_count": 15
        }
      ],
      "source": [
        "df.columns"
      ]
    },
    {
      "cell_type": "code",
      "execution_count": null,
      "id": "356e1a25",
      "metadata": {
        "id": "356e1a25",
        "colab": {
          "base_uri": "https://localhost:8080/"
        },
        "collapsed": true,
        "outputId": "d2a4036c-5402-41fc-a2ed-fb5152db33e1"
      },
      "outputs": [
        {
          "output_type": "execute_result",
          "data": {
            "text/plain": [
              "array(['AA,AAA,Health,Electronics,Health & Household,Camcorder Batteries,Camera & Photo,Batteries,Household Batteries,Robot Check,Accessories,Camera Batteries,Health and Beauty,Household Supplies,Batteries & Chargers,Health, Household & Baby Care,Health Personal Care',\n",
              "       'Audio & Video Accessories,TV, Video & Home Audio,Home Audio & Video Accessories,DVD Cases,Electronics,Media Cases & Storage,TV, Video & Audio Accessories,Media Storage & Organization,Disc Storage Wallets,Consumer Electronics,CD, DVD & Blu-ray Discs,Blank Audio/Video Media,Accessories & Supplies,all electronics',\n",
              "       'Stereos,Remote Controls,Audio Docks & Mini Speakers,Kitchen & Dining Features,Home & Tools,Electronics,New Networking,Wireless Speakers,Home, Garage & Office,Portable Speakers,iPod, Audio Player Accessories,Smart Home,Surveillance,Home Improvement,Smart Home & Home Automation Devices,Alarms & Sensors,Amazon Devices,Amazon,Holiday Shop,Kitchen Dining Features,Amazon Echo,Amazon Echo Accessories,Networking,Speaker Systems,TVs Entertainment,Clearance,Smart Hubs & Wireless Routers,Featured Brands,Smart Home & Connected Living,Home Security,Kindle Store,Home Automation,Home,Voice-Enabled Smart Assistants,Virtual Assistant Speakers,Portable Audio & Headphones,Electronics Features,Smart Home Automation,Amazon Device Accessories,Speakers,Smart Hub & Kits,Digital Device 3,Home & Furniture Clearance,Consumer Electronics,Smart Hubs,Home Safety & Security,Voice Assistants,Amazon Home,Virtual Assistant Speakers Displays,Audio',\n",
              "       'Amazon Echo,Virtual Assistant Speakers,Electronics Features,Networking,Home & Tools,Smart Home Automation,Electronics,TVs Entertainment,Speakers,New Networking,Smart Hub & Kits,Digital Device 3,Speakers & Audio Systems,Wireless Speakers,Smart Home,Home Improvement,Voice Assistants,Amazon Home,Virtual Assistant Speakers Displays,Home & Outdoors,Amazon,Bluetooth Speakers',\n",
              "       'Amazon Echo,Networking,Home & Tools,Smart Home Automation,Smart Speakers,Electronics,TVs Entertainment,New Networking,Smart Hub & Kits,Digital Device 3,Speakers & Audio Systems,Consumer Electronics,Wireless Speakers,See more Amazon Echo Spot Smart Assistant - Black,Smart Speakers, Hubs & Accessories,Home Improvement,Amazon Home,Surveillance & Smart Home Electronics,Virtual Assistant Speakers Displays,Home & Outdoors,Amazon,Bluetooth Speakers',\n",
              "       'Electronics,TVs Entertainment,Featured Brands,Other TV, Video & Audio Accs,College Tvs & Home Theater,Streaming Media Players,Fire TV,TVs Entertainment xbqxrzdteyyb,Ways To Shop,Amazon SMP,Electronics Features,TVs & Home Theater,TV, Video & Home Audio,On To College,Media Streamers,TV & Home Theater,TV, Video & Audio Accessories,Digital Device 4,All Streaming Media Players,College Electronics,Video Devices & TV Tuners,Consumer Electronics,TV & Video,Streaming Devices,Back To College,Amazon Devices,Amazon,Holiday Shop',\n",
              "       'AA,AAA,Electronics Features,Health,Electronics,Health & Household,Camcorder Batteries,Camera & Photo,Batteries,Household Batteries,Accessories,Camera Batteries,Health and Beauty,Household Supplies,Batteries & Chargers,Health, Household & Baby Care,Health Personal Care',\n",
              "       'Laptop Computer Stands,Electronics Features,Stands, Holders & Car Mounts,Home Office Furniture,Electronics,Office & School Supplies,Computers Features,Personal Computer,Office Furniture & Lighting,Furniture,Office Products,Desk Accessories & Workspace Organizers,Office Furniture Lighting,Computer Add On,Stands,Computers/Tablets & Networking,Platforms, Stands & Shelves,Laptop & Desktop Accessories,Laptop Cases & Bags,Notebook Computer Stands',\n",
              "       'Portable Computer Accessories,Bags, Cases & Sleeves,Accessories,Computers & Accessories,Laptop Accessories,Electronics,Backpacks',\n",
              "       'Portable Computer Accessories,Bags, Cases & Sleeves,Accessories,Sleeves,Computers & Accessories,Laptop Accessories,Electronics,computers',\n",
              "       'Bags, Cases & Sleeves,Computers & Accessories,See more AmazonBasics 15.6 Inch Laptop And Tablet Bag -...,Electronics,Tablet Accessories,Accessories,Computers/Tablets & Networking,Messenger Bags,Bags,Laptop & Desktop Accessories,Laptop Cases & Bags,Laptop Accessories,Cases,computers,Backpacks',\n",
              "       'Electronics Features,Drives, Storage & Blank Media,Hard Drive Pouches,Computers & Accessories,Computer Accessories & Peripherals,Hard Drive Accessories,Electronics,Computers Features,Personal Computer,Accessories,Hard Drive Bags Cases,Computers/Tablets & Networking,Drive Enclosures & Docks,Laptop & Desktop Accessories,Hard Drive Bags & Cases,Carrying Case Or Bag',\n",
              "       'Office,File Jackets & File Pockets,File Folders & Accessories,Files & Supplies,Office Solutions,Office Supplies,Office Product,Business & Industrial,Office & School Supplies,Expanding File Jackets Pockets,Smead,Office Products,File & Folder Accessories,Filing, Storage & Binding,Accessories,Expanding Files,See more File Pocket Expanding Folder Office Organizer ...,Filing Products,Expanding Wallets,Filing & Organizers,Expanding File Jackets & Pockets',\n",
              "       'Standard Litter Boxes,Litter Boxes,Cat Supplies,Pet Supplies,Top Cat Supplies,Pet Products',\n",
              "       'Computers & Accessories,Tablet & E-Reader Accessories,Amazon Devices & Accessories,Electronics,Power Adapters & Cables,Computers Features,Cell Phone Accessories,Cell Phone Batteries & Power,Digital Device Accessory,Tablet Accessories,Featured Brands,Kindle Fire (2nd Generation) Accessories,Kindle Store,Kindle Accessories,Power Adapters Cables,Electrical,Home,Tablets & E-Readers,Chargers Adapters,Chargers & Adapters,Electronics Features,Fire Tablet Accessories,Amazon Book Reader Accessory,Cell Phones,Amazon Device Accessories,Home Improvement,Fire (5th Generation) Accessories,Amazon Devices,Cables & Chargers',\n",
              "       'Chargers & Adapters,Computers & Accessories,Fire Tablet Accessories,Electronics,Power Adapters & Cables,Amazon Tablet Accessory,Amazon Device Accessories,Digital Device Accessory,Tablet Accessories,Kindle Fire (2nd Generation) Accessories,Kindle Store,Power Adapters Cables,Amazon Devices,Chargers Adapters',\n",
              "       'Home & Garden,Oven Mitts & Potholders,Kitchen, Dining & Bar,Cookware,Kitchen,Home & Kitchen,Cookware Accessories,Linens & Textiles,Kitchen & Dining',\n",
              "       'Computers & Accessories,Computer Accessories & Peripherals,Electronics,Power Adapters & Cables,Amazon Book Reader Accessory,Digital Device Accessory,Cables & Interconnects,Tablet & eBook Reader Accs,Computers/Tablets & Networking,USB Cables,See more Amazon Kindle Fire 5-Feet Micro USB Cable - Wh...,Power Adapters Cables,Chargers & Sync Cables',\n",
              "       'Amazon Echo,See more Amazon Echo (1st Generation) Smart Assistant -...,Smart Speakers,Smart Speaker & Hub Accessories,Electronics,Digital Device 3,Consumer Electronics,Home Audio & Home Theater,Smart Speakers, Hubs & Accessories,Amazon Home,Surveillance & Smart Home Electronics,Amazon,Voice-Enabled Smart Assistants,Home Audio Speakers',\n",
              "       'Amazon Echo,Home Theater & Audio,MP3 MP4 Player Accessories,Smart Speakers,Electronics,Portable Audio,Compact Radios Stereos,Smart Hubs & Wireless Routers,Featured Brands,Smart Home & Connected Living,Home Security,Kindle Store,Electronic Components,Home Automation,Smart Speakers, Hubs & Accessories,Mobile Bluetooth Speakers,Home, Garage & Office,Amazon Tap,Home,Mobile Speakers,TVs & Electronics,Portable Bluetooth Speakers,Bluetooth & Wireless Speakers,Electronics Features,TV, Video & Home Audio,Frys,Media Streamers,Speakers,Mobile,Digital Device 3,Consumer Electronics,Smart Home,Home Improvement,Electronics, Tech Toys, Movies, Music,Smart Home & Home Automation Devices,Smart Hubs,MP3 Player Accessories,Home Safety & Security,Voice Assistants,Amazon Home,Alarms & Sensors,Surveillance & Smart Home Electronics,Portable Audio & Electronics,Amazon Devices,Audio,Bluetooth Speakers,MP3 Accessories,All Bluetooth & Wireless Speakers',\n",
              "       'Computers,Electronics Features,EBook Readers,Tablets,Electronics,Amazon Ereaders,iPad & Tablets,Kindle E-readers,iPad Accessories,Used:Tablets,E-Readers,E-Readers & Accessories,Computers/Tablets & Networking,Used:Computers Accessories,iPads Tablets,All Tablets,Tablets & E-readers,Amazon Book Reader,Computers & Tablets,Amazon,Tablets & eBook Readers',\n",
              "       'Accessories,USB Cables,Computers & Accessories,Computer Accessories & Peripherals,Electronics,Cables,Cables & Interconnects',\n",
              "       'Carriers & Totes,Hard-Sided Carriers,Crates Kennels,Pet Supplies: International Shipping Available,Cat Supplies,Pet Supplies,Carriers & Crates,Custom Stores,Dog Supplies,Pet Products,Top Selection from AmazonPets',\n",
              "       'Tablet & eBook Reader Accs,Consumer Electronics,Computers/Tablets & Networking,eBook Readers & Accessories,Electronics,Amazon Book Reader Accessory,Amazon Device Accessories,Other Multipurpose Batteries,Chargers & Sync Cables,Digital Device Accessory,Power Adapters',\n",
              "       'Audio & Video Accessories,AmazonBasics,Car Audio & Video Installation,Electronics Features,Speaker Cables,Wired Headsets & Speakers,Audio Cables,Electronics,Speakers,Cable Or Adapter,Cables & Interconnects,Consumer Electronics,Cases & Covers,Power & Speaker Wire,Accessories & Supplies,Vehicle Electronics & GPS',\n",
              "       'Amazon Echo,Smart Speakers,Electronics,Digital Device 3,Home Audio & Home Theater,Consumer Electronics,Smart Home,Smart Speakers, Hubs & Accessories,Voice Assistants,Amazon Home,Surveillance & Smart Home Electronics,Amazon,Home Audio Speakers',\n",
              "       'eBook Readers,Electronics Features,Walmart for Business,Tablets,See more Amazon Kindle Voyage (Wi-Fi),Electronics,Amazon Ereaders,Office Electronics,iPad & Tablets,Kindle E-readers,E-Readers & Accessories,All Tablets,See more Amazon Kindle Voyage 4GB, Wi-Fi  3G (Unlocked...,Amazon Book Reader,Computers & Tablets',\n",
              "       'Home & Garden,Kitchen Storage & Organization,Kitchen, Dining & Bar,Kitchen & Dining Features,Food Storage,Racks & Holders,Kitchen & Dining,Home Kitchen Features,Home & Kitchen Features,Home & Kitchen,Kitchen,Coffee Pod Holders,Kitchen Dining Features,Storage & Organization',\n",
              "       'Consumer Electronics,Amazon Echo,Smart Speakers, Hubs & Accessories,Smart Speakers,Amazon Home,Surveillance & Smart Home Electronics,Digital Device 3',\n",
              "       'Fire Tablets,Computers/Tablets & Networking,Electronics Features,Tablets,All Tablets,Amazon Tablets,Computers & Tablets,Electronics,iPad & Tablets,Tablets & eBook Readers',\n",
              "       \"Fire Tablets,Learning Toys,Toys,Tablets,Amazon Tablets,Electronics, Tech Toys, Movies, Music,Computers & Tablets,Kids' Tablets,Electronics,iPad & Tablets,Tablets for Kids\",\n",
              "       'Fire Tablets,Computers,Tablets,All Tablets,Amazon Tablets,Computer Components,Electronics,Hard Drives & Storage,Computers & Tablets',\n",
              "       'Fire Tablets,Computers/Tablets & Networking,Tablets,All Tablets,Amazon Tablets,Computers & Tablets,Other Computers & Networking',\n",
              "       'eBook Readers,E-Readers & Accessories,Electronics Features,Amazon Book Reader,Computers & Tablets,Amazon Ereaders,Kindle E-readers,E-Readers',\n",
              "       'eBook Readers,E-Readers & Accessories,Amazon Book Reader,Computers & Tablets,Amazon Ereaders,Kindle E-readers',\n",
              "       'Fire Tablets,Computers/Tablets & Networking,Android Tablets,Tablets,All Tablets,Amazon Tablets,Electronics,Computers & Tablets,iPad & Tablets,Amazon,Tablets & eBook Readers,Tablets & E-Readers',\n",
              "       'Fire Tablets,Computers/Tablets & Networking,Tablets,All Tablets,Amazon Tablets,Frys,Computers & Tablets,Tablets & eBook Readers',\n",
              "       'Fire Tablets,Tablets,All Tablets,Amazon Tablets',\n",
              "       'Fire Tablets,Tablets,All Tablets,Amazon Tablets,Computers & Tablets',\n",
              "       'eBook Readers,E-Readers & Accessories,Amazon Book Reader,Computers & Tablets,Amazon Ereaders,Kindle E-readers,E-Readers',\n",
              "       'eBook Readers,Fire Tablets,Electronics Features,Tablets,Amazon Tablets,College Ipads & Tablets,Electronics,Electronics Deals,College Electronics,Featured Brands,All Tablets,Computers & Tablets,Back To College,Amazon Devices,Tablets & E-Readers',\n",
              "       'Fire Tablets,Computers/Tablets & Networking,Tablets,All Tablets,Amazon Tablets,Computers & Tablets,Electronics,Amazon,Tablets & eBook Readers,Tablets & E-Readers',\n",
              "       'Crate Training,Crates Kennels,Pet Supplies,Why Keep Them Waiting Prime Free Two-Day Shipping,Custom Stores,Dog Supplies,Pet Products,Top Selection from AmazonPets,Cages & Crates,Crates & Kennels',\n",
              "       'Featured Brands,E-Readers & Accessories,EBook Readers,Tablets,Amazon Book Reader,Electronics,Computers & Tablets,Amazon Ereaders,Kindle E-readers,Amazon Devices,Tablets & E-Readers,E-Readers',\n",
              "       'Crate Training,Crates Kennels,Pet Supplies,Dogs,City Sniffers,Custom Stores,Dog Supplies,Top Selection from AmazonPets,Pet Products,Cages & Crates,See more AmazonBasics Double Door Folding Metal Dog Cra...',\n",
              "       \"Fire Tablets,Tablets,Amazon Tablets,Computers & Tablets,Kids' Tablets\",\n",
              "       \"Fire Tablets,Computers/Tablets & Networking,Walmart for Business,Tablets,Amazon Tablets,Tablets & E-readers,Kids' Tablets,Electronics,Computers & Tablets,Office Electronics,Amazon,Tablets & eBook Readers\",\n",
              "       'Fire Tablets,Computers/Tablets & Networking,Tablets,All Tablets,Amazon Tablets,Computers & Tablets,Electronics,Amazon,Tablets & eBook Readers',\n",
              "       'Fire Tablets,Android Tablets,Tablets,All Tablets,Amazon Tablets,Electronics,Computers & Tablets,iPad & Tablets',\n",
              "       'Consumer Electronics,Amazon Echo,Electronics Features,MP3 MP4 Player Accessories,Amazon Home,Voice-Enabled Smart Assistants,Digital Device 3',\n",
              "       'Fire Tablets,Computers/Tablets & Networking,Tablets,All Tablets,Amazon Tablets,Computers & Tablets,Tablets & eBook Readers',\n",
              "       'E-Readers & Accessories,EBook Readers,Amazon Book Reader,Computers & Tablets,Amazon Ereaders,Kindle E-readers,E-Readers',\n",
              "       'EBook Readers,Tablets,Electronics,Amazon Ereaders,Kindle E-readers,E-Readers,Featured Brands,E-Readers & Accessories,Amazon Book Reader,Computers & Tablets,Amazon Devices,Amazon,Tablets & E-Readers',\n",
              "       \"Computers,Fire Tablets,Electronics Features,Computer Accessories,Tablets,Top Rated,Amazon Tablets,Electronics,Kids' Tablets,iPad & Tablets,Cases & Bags,Electronics, Tech Toys, Movies, Music,Computers & Tablets\",\n",
              "       'Office,eBook Readers,Electronics Features,Walmart for Business,Tablets,Electronics,Amazon Ereaders,Office Electronics,iPad & Tablets,Kindle E-readers,All Tablets,Amazon Book Reader,Computers & Tablets',\n",
              "       'Amazon SMP,Electronics Features,Kids & Family,TV, Video & Home Audio,Frys,Digital Device 4,Consumer Electronics,Kids Family,Video Games,Internet & Media Streamers,Streaming Media Players,Fire TV,Home Audio,Consoles',\n",
              "       'Amazon SMP,Categories,Streaming Media Players,Electronics,Fire TV,Digital Device 4',\n",
              "       'Electronics Features,Computers & Accessories,Computer Accessories & Peripherals,Keyboards,Electronics,Amazon Device Accessories,Digital Device Accessory,Keyboards, Mice & Accessories,Tablet Accessories,14701001',\n",
              "       'Computers & Accessories,Electronics,Amazon Device Accessories,Digital Device Accessory,Abis Electronics,Tablet Accessories,Power Adapters',\n",
              "       'Fire Tablets,Tablets,All Tablets,Amazon Tablets,Genuine Tablet Accessories,Computers & Tablets,Electronics,Amazon'],\n",
              "      dtype=object)"
            ]
          },
          "metadata": {},
          "execution_count": 16
        }
      ],
      "source": [
        "df['categories'].unique()"
      ]
    },
    {
      "cell_type": "code",
      "execution_count": null,
      "id": "7a5e3e95",
      "metadata": {
        "id": "7a5e3e95"
      },
      "outputs": [],
      "source": [
        "# remove empty reviews and rating\n",
        "df = df[(df['reviews.text'].isnull()==False)&(df['reviews.rating'].isnull()==False)]"
      ]
    },
    {
      "cell_type": "code",
      "execution_count": null,
      "id": "a7a4dd8f",
      "metadata": {
        "id": "a7a4dd8f",
        "colab": {
          "base_uri": "https://localhost:8080/"
        },
        "outputId": "9dbcc3e9-1ff7-466d-e339-d304cea9475f"
      },
      "outputs": [
        {
          "output_type": "execute_result",
          "data": {
            "text/plain": [
              "(28332, 24)"
            ]
          },
          "metadata": {},
          "execution_count": 18
        }
      ],
      "source": [
        "df.shape"
      ]
    },
    {
      "cell_type": "code",
      "execution_count": null,
      "id": "c33a963e",
      "metadata": {
        "id": "c33a963e",
        "colab": {
          "base_uri": "https://localhost:8080/",
          "height": 472
        },
        "outputId": "9a71d6b0-bcd9-48ff-91a8-26df1d5db2ba"
      },
      "outputs": [
        {
          "output_type": "display_data",
          "data": {
            "text/plain": [
              "<Figure size 640x480 with 1 Axes>"
            ],
            "image/png": "[encoded data removed]"
          },
          "metadata": {}
        }
      ],
      "source": [
        "sns.countplot(data=df, x=\"reviews.rating\")\n",
        "plt.xlabel('rating');\n",
        "plt.title(\"Distributions of Rating Score\");"
      ]
    },
    {
      "cell_type": "markdown",
      "id": "3025e358",
      "metadata": {
        "id": "3025e358"
      },
      "source": [
        "Turning to the graphic, it shows the scores from minimal 1 and maximum 5.\n",
        "Interesting is that the data has a lot of better score (4-5) and less negative (1-3)"
      ]
    },
    {
      "cell_type": "code",
      "execution_count": null,
      "id": "3f651186",
      "metadata": {
        "id": "3f651186"
      },
      "outputs": [],
      "source": [
        "# convert rating to sentiment classes (positive and negative)\n",
        "df.loc[:,'label'] = df['reviews.rating'].apply(create_sentiment)"
      ]
    },
    {
      "cell_type": "code",
      "execution_count": null,
      "id": "bab0570b",
      "metadata": {
        "id": "bab0570b"
      },
      "outputs": [],
      "source": [
        "df = df[['reviews.text','label']]"
      ]
    },
    {
      "cell_type": "code",
      "execution_count": null,
      "id": "b743de63",
      "metadata": {
        "id": "b743de63"
      },
      "outputs": [],
      "source": [
        "df.rename(columns={'reviews.text': \"text\"},inplace=True)"
      ]
    },
    {
      "cell_type": "code",
      "execution_count": null,
      "id": "46d77495",
      "metadata": {
        "id": "46d77495"
      },
      "outputs": [],
      "source": [
        "# remove duplicates\n",
        "df.drop_duplicates(subset=['text'], keep='last', inplace=True)"
      ]
    },
    {
      "cell_type": "code",
      "execution_count": null,
      "id": "0327aeab",
      "metadata": {
        "id": "0327aeab",
        "colab": {
          "base_uri": "https://localhost:8080/"
        },
        "outputId": "5e62f3c2-4682-4bcc-c08d-50938bdec503"
      },
      "outputs": [
        {
          "output_type": "execute_result",
          "data": {
            "text/plain": [
              "(18168, 2)"
            ]
          },
          "metadata": {},
          "execution_count": 24
        }
      ],
      "source": [
        "df.shape"
      ]
    },
    {
      "cell_type": "markdown",
      "id": "49c45c25",
      "metadata": {
        "id": "49c45c25"
      },
      "source": [
        "The text in comments is quite clean without html tags and with very few links. So for that reason, I will only convert emojis to text. In addition, for data Data augmentation (Section 3) I will use the technique of back translation. Therefore, I will not lowercase the text."
      ]
    },
    {
      "cell_type": "code",
      "execution_count": null,
      "id": "64d958db",
      "metadata": {
        "id": "64d958db"
      },
      "outputs": [],
      "source": [
        "def convert_emoticons_to_words(row):\n",
        "    \"\"\" Convert emojis in comments into text\n",
        "    Input:\n",
        "        pandas Series row\n",
        "    Output\n",
        "        pandas Series row\n",
        "\n",
        "\n",
        "    \"\"\"\n",
        "    for i, j in EMOTICONS_EMO.items():\n",
        "        row = row.replace(i, j)\n",
        "    return row\n"
      ]
    },
    {
      "cell_type": "code",
      "execution_count": null,
      "id": "f580adfc",
      "metadata": {
        "id": "f580adfc"
      },
      "outputs": [],
      "source": [
        "df['text'] = df['text'].apply(convert_emoticons_to_words)"
      ]
    },
    {
      "cell_type": "code",
      "execution_count": null,
      "id": "992c0b1c",
      "metadata": {
        "id": "992c0b1c"
      },
      "outputs": [],
      "source": [
        "def visualize_class_distribution(data):\n",
        "    \"\"\"\n",
        "    Visualisation of the proportions\n",
        "    for each class\n",
        "    Input:\n",
        "        data: pandas dataframe\n",
        "    Output:\n",
        "        None\n",
        "\n",
        "    \"\"\"\n",
        "    colors = ['royalblue', 'pink']\n",
        "    fig, ax = plt.subplots()\n",
        "    ax.pie(data['label'].value_counts(), labels=[\"positive\",\"negative\"], autopct='%1.1f%%', colors=colors)\n",
        "    plt.title(\"Sentiment Class Distribution\");\n"
      ]
    },
    {
      "cell_type": "markdown",
      "id": "757d9e7f",
      "metadata": {
        "id": "757d9e7f"
      },
      "source": [
        "The graph below makes it clear that the class of negative reviews is disproportionally underrepresented. This challenge will be handled in the section \"3. Data augmentation\" and \"5. Data balancing\""
      ]
    },
    {
      "cell_type": "code",
      "execution_count": null,
      "id": "f31b701d",
      "metadata": {
        "id": "f31b701d",
        "colab": {
          "base_uri": "https://localhost:8080/",
          "height": 428
        },
        "outputId": "947f0949-717c-44c7-c9f6-ea936f9f2fdc"
      },
      "outputs": [
        {
          "output_type": "display_data",
          "data": {
            "text/plain": [
              "<Figure size 640x480 with 1 Axes>"
            ],
            "image/png": "[encoded data removed]"
          },
          "metadata": {}
        }
      ],
      "source": [
        "visualize_class_distribution(df)"
      ]
    },
    {
      "cell_type": "markdown",
      "id": "804fb691",
      "metadata": {
        "id": "804fb691"
      },
      "source": [
        "## 2. Data splitting"
      ]
    },
    {
      "cell_type": "code",
      "execution_count": null,
      "id": "57cce8b3",
      "metadata": {
        "id": "57cce8b3",
        "colab": {
          "base_uri": "https://localhost:8080/"
        },
        "outputId": "67149fb0-b14e-49d4-b747-23521336c4fd"
      },
      "outputs": [
        {
          "output_type": "stream",
          "name": "stderr",
          "text": [
            "/usr/local/lib/python3.11/dist-packages/numpy/core/fromnumeric.py:59: FutureWarning: 'DataFrame.swapaxes' is deprecated and will be removed in a future version. Please use 'DataFrame.transpose' instead.\n",
            "  return bound(*args, **kwds)\n"
          ]
        }
      ],
      "source": [
        "# splitting dataset into training(60%), validation(20%) and test set (20%)\n",
        "train, validate, test = \\\n",
        "              np.split(df.sample(frac=1, random_state=42),\n",
        "                       [int(.6*len(df)), int(.8*len(df))])"
      ]
    },
    {
      "cell_type": "markdown",
      "id": "86cdf443",
      "metadata": {
        "id": "86cdf443"
      },
      "source": [
        "## Using Basic \"sentiment-roberta-large-english\" Model"
      ]
    },
    {
      "cell_type": "markdown",
      "id": "92a95501",
      "metadata": {
        "id": "92a95501"
      },
      "source": [
        "As the baseline I use [SiEBERT - English-Language Sentiment Classification](https://huggingface.co/siebert/sentiment-roberta-large-english) model which enables to predict positive and negative sentiment. The model is a fine-tuned checkpoint of RoBERTa-large (Liu et al. 2019) and outperformed DistilBERT SST-2\n",
        "on average by  15 p.p. (78.1 vs 93.2)\n"
      ]
    },
    {
      "cell_type": "code",
      "execution_count": null,
      "id": "eb6eedbb",
      "metadata": {
        "id": "eb6eedbb",
        "colab": {
          "base_uri": "https://localhost:8080/"
        },
        "outputId": "25867355-3dff-4f96-87e4-c4bdf7837829"
      },
      "outputs": [
        {
          "output_type": "stream",
          "name": "stderr",
          "text": [
            "/usr/local/lib/python3.11/dist-packages/huggingface_hub/utils/_auth.py:94: UserWarning: \n",
            "The secret `HF_TOKEN` does not exist in your Colab secrets.\n",
            "To authenticate with the Hugging Face Hub, create a token in your settings tab (https://huggingface.co/settings/tokens), set it as secret in your Google Colab and restart your session.\n",
            "You will be able to reuse this secret in all of your notebooks.\n",
            "Please note that authentication is recommended but still optional to access public models or datasets.\n",
            "  warnings.warn(\n",
            "Device set to use cuda:0\n"
          ]
        }
      ],
      "source": [
        "roberta_classifier = pipeline(\"sentiment-analysis\",model=\"siebert/sentiment-roberta-large-english\",truncation = True)"
      ]
    },
    {
      "cell_type": "code",
      "execution_count": null,
      "id": "b03d3f24",
      "metadata": {
        "id": "b03d3f24"
      },
      "outputs": [],
      "source": [
        "def get_predictions(data_test, classifier):\n",
        "    \"\"\"\n",
        "    Create new column with predictions\n",
        "    Input:\n",
        "        data_test: DataFrame\n",
        "    Output:\n",
        "        data_test: DataFrame (with predictions)\n",
        "    \"\"\"\n",
        "    data_test['roberta_sentiment'] = data_test['text'].apply(lambda x : classifier(x))\n",
        "    data_test.loc[:,'predicted'] =data_test[\"roberta_sentiment\"].apply(convert_predictions)\n",
        "    return data_test"
      ]
    },
    {
      "cell_type": "code",
      "execution_count": null,
      "id": "80e3fb57",
      "metadata": {
        "id": "80e3fb57"
      },
      "outputs": [],
      "source": [
        "test_basis = test.copy()"
      ]
    },
    {
      "cell_type": "code",
      "execution_count": null,
      "id": "ab0e7468",
      "metadata": {
        "id": "ab0e7468",
        "colab": {
          "base_uri": "https://localhost:8080/"
        },
        "outputId": "3eeabe4b-007f-4757-d0f0-ba745a278e29"
      },
      "outputs": [
        {
          "output_type": "stream",
          "name": "stderr",
          "text": [
            "You seem to be using the pipelines sequentially on GPU. In order to maximize efficiency please use a dataset\n"
          ]
        }
      ],
      "source": [
        "test_basis_prediction = get_predictions(test_basis, roberta_classifier)"
      ]
    },
    {
      "cell_type": "code",
      "execution_count": null,
      "id": "f8d881a7",
      "metadata": {
        "id": "f8d881a7",
        "colab": {
          "base_uri": "https://localhost:8080/"
        },
        "outputId": "5d943130-df11-4fbc-8690-276be9ec6b10"
      },
      "outputs": [
        {
          "output_type": "stream",
          "name": "stdout",
          "text": [
            "              precision    recall  f1-score   support\n",
            "\n",
            "           0       0.69      0.78      0.73       396\n",
            "           1       0.97      0.96      0.96      3238\n",
            "\n",
            "    accuracy                           0.94      3634\n",
            "   macro avg       0.83      0.87      0.85      3634\n",
            "weighted avg       0.94      0.94      0.94      3634\n",
            "\n"
          ]
        }
      ],
      "source": [
        "print(classification_report(test_basis_prediction.label, test_basis_prediction.predicted))"
      ]
    },
    {
      "cell_type": "code",
      "execution_count": null,
      "id": "b8749909",
      "metadata": {
        "id": "b8749909",
        "colab": {
          "base_uri": "https://localhost:8080/",
          "height": 53
        },
        "outputId": "0848833c-446e-425f-868a-5ce4e1557751"
      },
      "outputs": [
        {
          "output_type": "execute_result",
          "data": {
            "text/plain": [
              "Empty DataFrame\n",
              "Columns: [text, label, roberta_sentiment, predicted]\n",
              "Index: []"
            ],
            "text/html": [
              "\n",
              "  <div id=\"df-799adcab-6aec-40da-98e1-8bde63c7aec9\" class=\"colab-df-container\">\n",
              "    <div>\n",
              "<style scoped>\n",
              "    .dataframe tbody tr th:only-of-type {\n",
              "        vertical-align: middle;\n",
              "    }\n",
              "\n",
              "    .dataframe tbody tr th {\n",
              "        vertical-align: top;\n",
              "    }\n",
              "\n",
              "    .dataframe thead th {\n",
              "        text-align: right;\n",
              "    }\n",
              "</style>\n",
              "<table border=\"1\" class=\"dataframe\">\n",
              "  <thead>\n",
              "    <tr style=\"text-align: right;\">\n",
              "      <th></th>\n",
              "      <th>text</th>\n",
              "      <th>label</th>\n",
              "      <th>roberta_sentiment</th>\n",
              "      <th>predicted</th>\n",
              "    </tr>\n",
              "  </thead>\n",
              "  <tbody>\n",
              "  </tbody>\n",
              "</table>\n",
              "</div>\n",
              "    <div class=\"colab-df-buttons\">\n",
              "\n",
              "  <div class=\"colab-df-container\">\n",
              "    <button class=\"colab-df-convert\" onclick=\"convertToInteractive('df-799adcab-6aec-40da-98e1-8bde63c7aec9')\"\n",
              "            title=\"Convert this dataframe to an interactive table.\"\n",
              "            style=\"display:none;\">\n",
              "\n",
              "  <svg xmlns=\"http://www.w3.org/2000/svg\" height=\"24px\" viewBox=\"0 -960 960 960\">\n",
              "    <path d=\"M120-120v-720h720v720H120Zm60-500h600v-160H180v160Zm220 220h160v-160H400v160Zm0 220h160v-160H400v160ZM180-400h160v-160H180v160Zm440 0h160v-160H620v160ZM180-180h160v-160H180v160Zm440 0h160v-160H620v160Z\"/>\n",
              "  </svg>\n",
              "    </button>\n",
              "\n",
              "  <style>\n",
              "    .colab-df-container {\n",
              "      display:flex;\n",
              "      gap: 12px;\n",
              "    }\n",
              "\n",
              "    .colab-df-convert {\n",
              "      background-color: #E8F0FE;\n",
              "      border: none;\n",
              "      border-radius: 50%;\n",
              "      cursor: pointer;\n",
              "      display: none;\n",
              "      fill: #1967D2;\n",
              "      height: 32px;\n",
              "      padding: 0 0 0 0;\n",
              "      width: 32px;\n",
              "    }\n",
              "\n",
              "    .colab-df-convert:hover {\n",
              "      background-color: #E2EBFA;\n",
              "      box-shadow: 0px 1px 2px rgba(60, 64, 67, 0.3), 0px 1px 3px 1px rgba(60, 64, 67, 0.15);\n",
              "      fill: #174EA6;\n",
              "    }\n",
              "\n",
              "    .colab-df-buttons div {\n",
              "      margin-bottom: 4px;\n",
              "    }\n",
              "\n",
              "    [theme=dark] .colab-df-convert {\n",
              "      background-color: #3B4455;\n",
              "      fill: #D2E3FC;\n",
              "    }\n",
              "\n",
              "    [theme=dark] .colab-df-convert:hover {\n",
              "      background-color: #434B5C;\n",
              "      box-shadow: 0px 1px 3px 1px rgba(0, 0, 0, 0.15);\n",
              "      filter: drop-shadow(0px 1px 2px rgba(0, 0, 0, 0.3));\n",
              "      fill: #FFFFFF;\n",
              "    }\n",
              "  </style>\n",
              "\n",
              "    <script>\n",
              "      const buttonEl =\n",
              "        document.querySelector('#df-799adcab-6aec-40da-98e1-8bde63c7aec9 button.colab-df-convert');\n",
              "      buttonEl.style.display =\n",
              "        google.colab.kernel.accessAllowed ? 'block' : 'none';\n",
              "\n",
              "      async function convertToInteractive(key) {\n",
              "        const element = document.querySelector('#df-799adcab-6aec-40da-98e1-8bde63c7aec9');\n",
              "        const dataTable =\n",
              "          await google.colab.kernel.invokeFunction('convertToInteractive',\n",
              "                                                    [key], {});\n",
              "        if (!dataTable) return;\n",
              "\n",
              "        const docLinkHtml = 'Like what you see? Visit the ' +\n",
              "          '<a target=\"_blank\" href=https://colab.research.google.com/notebooks/data_table.ipynb>data table notebook</a>'\n",
              "          + ' to learn more about interactive tables.';\n",
              "        element.innerHTML = '';\n",
              "        dataTable['output_type'] = 'display_data';\n",
              "        await google.colab.output.renderOutput(dataTable, element);\n",
              "        const docLink = document.createElement('div');\n",
              "        docLink.innerHTML = docLinkHtml;\n",
              "        element.appendChild(docLink);\n",
              "      }\n",
              "    </script>\n",
              "  </div>\n",
              "\n",
              "\n",
              "    </div>\n",
              "  </div>\n"
            ],
            "application/vnd.google.colaboratory.intrinsic+json": {
              "type": "dataframe",
              "repr_error": "Out of range float values are not JSON compliant: nan"
            }
          },
          "metadata": {},
          "execution_count": 35
        }
      ],
      "source": [
        "# check if there are any unpredicted comments\n",
        "test_basis_prediction[test_basis_prediction.predicted.isnull()==True]"
      ]
    },
    {
      "cell_type": "markdown",
      "id": "332b7953",
      "metadata": {
        "id": "332b7953"
      },
      "source": [
        "## Fine-tuning model"
      ]
    },
    {
      "cell_type": "markdown",
      "id": "9b20df42",
      "metadata": {
        "id": "9b20df42"
      },
      "source": [
        "## 3. Data augmentation"
      ]
    },
    {
      "cell_type": "markdown",
      "id": "801f22c9",
      "metadata": {
        "id": "801f22c9"
      },
      "source": [
        "For data augmentation I will use the technique [“Back Translation”](https://towardsdatascience.com/nlp-data-augmentation-using-transformers-89a44a993bab).  First of all, I translate the English text into German and then back to English. The major reasons for this technique are\n",
        "1.\tThere are enough good performing models for English\n",
        "2.\tDue to the fact, that the task is sentiment analysis (the polarity of the sentences). I don’t want to add noise to the dataset with random replacement, random insertion or text generation etc.\n",
        "3. With Back Translation we will create new samples for the minority class (oversampling)\n"
      ]
    },
    {
      "cell_type": "code",
      "execution_count": null,
      "id": "3dcb942a",
      "metadata": {
        "id": "3dcb942a"
      },
      "outputs": [],
      "source": [
        "#English to German\n",
        "translation_en_to_de = pipeline(\"translation_en_to_de\", model='t5-base')\n",
        "\n",
        "#Germal to English\n",
        "tokenizer = AutoTokenizer.from_pretrained(\"google/bert2bert_L-24_wmt_de_en\", pad_token=\"<pad>\", eos_token=\"</s>\", bos_token=\"<s>\")\n",
        "model_de_to_en = AutoModelForSeq2SeqLM.from_pretrained(\"google/bert2bert_L-24_wmt_de_en\")\n"
      ]
    },
    {
      "cell_type": "code",
      "execution_count": null,
      "id": "bf1dfae4",
      "metadata": {
        "id": "bf1dfae4"
      },
      "outputs": [],
      "source": [
        "def back_translation(input_text):\n",
        "    \"\"\" Translate the text from English to German\n",
        "        and then from German to English\n",
        "    Input:\n",
        "        pandas Series row\n",
        "    Output\n",
        "        pandas Series row\n",
        "\n",
        "\n",
        "    \"\"\"\n",
        "    review_en_to_de = translation_en_to_de(input_text)\n",
        "    text_en_to_de = review_en_to_de[0]['translation_text']\n",
        "    input_ids = tokenizer(text_en_to_de, return_tensors=\"pt\", add_special_tokens=False,max_length=512,truncation=True).input_ids\n",
        "    output_ids = model_de_to_en.generate(input_ids)[0]\n",
        "    augmented_review = tokenizer.decode(output_ids, skip_special_tokens=True)\n",
        "    return augmented_review"
      ]
    },
    {
      "cell_type": "code",
      "execution_count": null,
      "id": "710b001f",
      "metadata": {
        "id": "710b001f"
      },
      "outputs": [],
      "source": [
        "def create_data_samples(data):\n",
        "    \"\"\"\n",
        "    Create new samples for training\n",
        "    Input:\n",
        "        data: pandas data frame\n",
        "    Output:\n",
        "        data: pandas data frame with additional sampels\n",
        "\n",
        "    \"\"\"\n",
        "    count_labels= data[\"label\"].value_counts()\n",
        "    n = count_labels[1]-count_labels[0]\n",
        "    # oversampling for negative class\n",
        "    data_temp = data[data.label==0].sample(n=n, replace=True, random_state=1)\n",
        "    data_temp.loc[:,'samples'] =data_temp[\"text\"].apply(back_translation)\n",
        "    data_temp = data_temp.drop('text', axis=1)\n",
        "    data_temp.rename(columns={'samples': \"text\"},inplace=True)\n",
        "    data_sampled = pd.concat([data_temp, data], ignore_index=True)\n",
        "    data_sampled = shuffle(data_sampled, random_state=0)\n",
        "    return data_sampled\n"
      ]
    },
    {
      "cell_type": "code",
      "execution_count": null,
      "id": "8de3d99a",
      "metadata": {
        "scrolled": true,
        "id": "8de3d99a"
      },
      "outputs": [],
      "source": [
        "train = create_data_samples(train)"
      ]
    },
    {
      "cell_type": "markdown",
      "id": "74c1ddad",
      "metadata": {
        "id": "74c1ddad"
      },
      "source": [
        "Looking at the graph below you can see, that now the training dataset is balanced. This dataset will be used for the second approach (Data Balancing - Oversampling)  "
      ]
    },
    {
      "cell_type": "code",
      "execution_count": null,
      "id": "5851cb3a",
      "metadata": {
        "id": "5851cb3a"
      },
      "outputs": [],
      "source": [
        "visualize_class_distribution(train)"
      ]
    },
    {
      "cell_type": "code",
      "execution_count": null,
      "id": "b5add11e",
      "metadata": {
        "id": "b5add11e"
      },
      "outputs": [],
      "source": [
        "train.shape"
      ]
    },
    {
      "cell_type": "markdown",
      "id": "a5112306",
      "metadata": {
        "id": "a5112306"
      },
      "source": [
        "## 4. Data preprocessing"
      ]
    },
    {
      "cell_type": "markdown",
      "id": "12053d2d",
      "metadata": {
        "id": "12053d2d"
      },
      "source": [
        "One of the parameter of tokenizer is max_length. So, before I use default number, let us check, what is the max number of the reviews\n"
      ]
    },
    {
      "cell_type": "code",
      "execution_count": null,
      "id": "acaffcc7",
      "metadata": {
        "id": "acaffcc7"
      },
      "outputs": [],
      "source": [
        "tokenizer = AutoTokenizer.from_pretrained(\"siebert/sentiment-roberta-large-english\")"
      ]
    },
    {
      "cell_type": "code",
      "execution_count": null,
      "id": "78885250",
      "metadata": {
        "id": "78885250"
      },
      "outputs": [],
      "source": [
        "train = Dataset.from_pandas(train).remove_columns(['__index_level_0__'])\n",
        "validate = Dataset.from_pandas(validate).remove_columns(['__index_level_0__'])\n",
        "test = Dataset.from_pandas(test).remove_columns(['__index_level_0__'])"
      ]
    },
    {
      "cell_type": "code",
      "execution_count": null,
      "id": "51cdfcbd",
      "metadata": {
        "id": "51cdfcbd"
      },
      "outputs": [],
      "source": [
        "def get_review_len(data):\n",
        "    \"\"\"\n",
        "    Calculate the length of each sentence\n",
        "    Input:\n",
        "        data: Dataset\n",
        "    Output:\n",
        "        tokens_len: list with length of each sentence\n",
        "\n",
        "    \"\"\"\n",
        "    tokens_len = []\n",
        "    for review in data[\"text\"]:\n",
        "        tokens = tokenizer.encode(review)\n",
        "        tokens_len.append(len(tokens))\n",
        "    return tokens_len"
      ]
    },
    {
      "cell_type": "code",
      "execution_count": null,
      "id": "0bf956b8",
      "metadata": {
        "id": "0bf956b8",
        "colab": {
          "base_uri": "https://localhost:8080/"
        },
        "outputId": "143aa967-3e8b-4798-f45b-3689e920f547"
      },
      "outputs": [
        {
          "output_type": "stream",
          "name": "stderr",
          "text": [
            "Token indices sequence length is longer than the specified maximum sequence length for this model (563 > 512). Running this sequence through the model will result in indexing errors\n"
          ]
        },
        {
          "output_type": "execute_result",
          "data": {
            "text/plain": [
              "1173"
            ]
          },
          "metadata": {},
          "execution_count": 39
        }
      ],
      "source": [
        "# max number of tokens\n",
        "np.array(get_review_len(train)).max()"
      ]
    },
    {
      "cell_type": "code",
      "execution_count": null,
      "id": "65827263",
      "metadata": {
        "id": "65827263",
        "colab": {
          "base_uri": "https://localhost:8080/"
        },
        "outputId": "1e2d3a87-4e34-433f-d41b-05c46527c6a6"
      },
      "outputs": [
        {
          "output_type": "execute_result",
          "data": {
            "text/plain": [
              "3"
            ]
          },
          "metadata": {},
          "execution_count": 40
        }
      ],
      "source": [
        "# min number of tokens\n",
        "np.array(get_review_len(train)).min()"
      ]
    },
    {
      "cell_type": "code",
      "execution_count": null,
      "id": "ba39c829",
      "metadata": {
        "id": "ba39c829",
        "colab": {
          "base_uri": "https://localhost:8080/",
          "height": 547
        },
        "outputId": "b5fcf600-0c64-4616-bdfb-94e5eb29be56"
      },
      "outputs": [
        {
          "output_type": "display_data",
          "data": {
            "text/plain": [
              "<Figure size 500x500 with 1 Axes>"
            ],
            "image/png": "[encoded data removed]"
          },
          "metadata": {}
        }
      ],
      "source": [
        "sns.displot(get_review_len(train),bins=20)\n",
        "plt.xlabel('tokent count');\n",
        "plt.title(\"Distributions of Tokens per Sentence\");\n"
      ]
    },
    {
      "cell_type": "markdown",
      "id": "7901cf89",
      "metadata": {
        "id": "7901cf89"
      },
      "source": [
        "The graph above makes it clear that the most of the review are below 180 tokens. For that reason, I will set max_lenght to 180"
      ]
    },
    {
      "cell_type": "code",
      "execution_count": null,
      "id": "8cca33b2",
      "metadata": {
        "id": "8cca33b2"
      },
      "outputs": [],
      "source": [
        "def preprocess_function(data):\n",
        "    \"\"\"\n",
        "    Input data: Dataset\n",
        "    Output: data: Dataset: with 'input_ids' and 'attention_mask'\n",
        "\n",
        "    \"\"\"\n",
        "    return tokenizer(data['text'], padding=\"max_length\", max_length=180,truncation=True)"
      ]
    },
    {
      "cell_type": "code",
      "execution_count": null,
      "id": "7cc4a753",
      "metadata": {
        "id": "7cc4a753",
        "colab": {
          "base_uri": "https://localhost:8080/",
          "height": 81,
          "referenced_widgets": [
            "efefa1978a7743799d74ee72da8b6a7e",
            "7f09a8adba654b38a3177a699eb404ce",
            "1083f7c14ffe4c8580fb0e6e71eb64e3",
            "13c8f7078a0b450bba40ec18ffc87793",
            "436ec0f5e5ad49a1ac3ba2227e827106",
            "af6ccd58149040f4bfc78f7a182954dc",
            "b78c7df32ed8484cbbc594e307ed00d5",
            "0c3ce0c7a7e94f5e9fbbd3e350663522",
            "c2ffb621ac6c4e96b6b83feac23564c2",
            "a0891c9e46cd4583acde5612d05e278a",
            "446263c68579421280b43b256f18b537",
            "394cf85eb4614549a4bf57388861e5d0",
            "6e8eb21ac9ec4c6a843eb43e24643be4",
            "8ce57030a89f41c2a36e46d467899c45",
            "6a6e1ef646fb4c45b744f4197a1edb7c",
            "15473a3622a7482990d9eb0b00e2b0eb",
            "8b966a8d9cd04073a27ce68fc4a364f9",
            "a1de042107e5470ba3145060b43c57a1",
            "24eb451720af4785b7022e5e82c786a6",
            "39859d0d79b841008459dc987195f883",
            "bbde39c9ecd8426ca8fc6a708fd78e06",
            "41a36239ebfb44f4bed7e98b98cdd2fa"
          ]
        },
        "outputId": "23de58ad-37d1-47cb-f1cc-290d9db52cff"
      },
      "outputs": [
        {
          "output_type": "display_data",
          "data": {
            "text/plain": [
              "Map:   0%|          | 0/10900 [00:00<?, ? examples/s]"
            ],
            "application/vnd.jupyter.widget-view+json": {
              "version_major": 2,
              "version_minor": 0,
              "model_id": "efefa1978a7743799d74ee72da8b6a7e"
            }
          },
          "metadata": {}
        },
        {
          "output_type": "display_data",
          "data": {
            "text/plain": [
              "Map:   0%|          | 0/3634 [00:00<?, ? examples/s]"
            ],
            "application/vnd.jupyter.widget-view+json": {
              "version_major": 2,
              "version_minor": 0,
              "model_id": "394cf85eb4614549a4bf57388861e5d0"
            }
          },
          "metadata": {}
        }
      ],
      "source": [
        "tokenized_train = train.map(preprocess_function, batched=True)\n",
        "tokenized_val= validate.map(preprocess_function, batched=True)"
      ]
    },
    {
      "cell_type": "code",
      "execution_count": null,
      "id": "bb9239d2",
      "metadata": {
        "id": "bb9239d2"
      },
      "outputs": [],
      "source": [
        "#In order to speed up the training, the training samples will be converted to Pytorch tensors\n",
        "data_collator = DataCollatorWithPadding(tokenizer=tokenizer)"
      ]
    },
    {
      "cell_type": "code",
      "execution_count": null,
      "id": "484f5099",
      "metadata": {
        "id": "484f5099"
      },
      "outputs": [],
      "source": [
        "model = AutoModelForSequenceClassification.from_pretrained(\"siebert/sentiment-roberta-large-english\", num_labels=2)"
      ]
    },
    {
      "cell_type": "markdown",
      "id": "992d01c5",
      "metadata": {
        "id": "992d01c5"
      },
      "source": [
        "For the evaluation of the model performance, I will use on the one hand, accuracy, on the other hand f1 score (as we have an imbalanced dataset). In comparison to accuracy, the f1-score pays more attention to false negative and false positive predictions"
      ]
    },
    {
      "cell_type": "code",
      "execution_count": null,
      "id": "d4daee59",
      "metadata": {
        "id": "d4daee59"
      },
      "outputs": [],
      "source": [
        "def compute_metrics(eval_pred):\n",
        "    \"\"\"\n",
        "    Defines the evaluation metrics for fine-tuned model\n",
        "\n",
        "    \"\"\"\n",
        "    load_accuracy = load_metric(\"accuracy\")\n",
        "    load_f1 = load_metric(\"f1\")\n",
        "\n",
        "    logits, labels = eval_pred\n",
        "    predictions = np.argmax(logits, axis=-1)\n",
        "    accuracy = load_accuracy.compute(predictions=predictions, references=labels)[\"accuracy\"]\n",
        "    f1 = load_f1.compute(predictions=predictions, references=labels)[\"f1\"]\n",
        "\n",
        "    print(\"eval_pred\", type(eval_pred))\n",
        "    print(\"accuracy\", type(accuracy),accuracy)\n",
        "    print(\"f1\", type(f1),f1)\n",
        "    return {\"accuracy\": accuracy, \"f1\": f1}\n"
      ]
    },
    {
      "cell_type": "markdown",
      "id": "2508e772",
      "metadata": {
        "id": "2508e772"
      },
      "source": [
        "## 5. Data balancing"
      ]
    },
    {
      "cell_type": "markdown",
      "id": "15f02cb4",
      "metadata": {
        "id": "15f02cb4"
      },
      "source": [
        "Since the dataset is imbalanced, I will test two approaches\n",
        "1. I will integrate the weighted loss into the [Trainer](https://huggingface.co/docs/transformers/main_classes/trainer). Usually, the data points from each class are treated the same. That means,  that the model will learn more for the class which is overrepresented in the dataset. In order to overcome this issue, the weights for minority classes will be increased. This behavior will increase the loss as well and so force the model to pay more attention to these samples.\n",
        "2. Random oversampling the minority of class through Back Translation (see function create_data_samples). In this case, the \"CLASS_WEIGHTS\" will be balanced and so have no substational impact on CrossEntropyLoss"
      ]
    },
    {
      "cell_type": "code",
      "execution_count": null,
      "id": "5117de28",
      "metadata": {
        "id": "5117de28"
      },
      "outputs": [],
      "source": [
        "CLASS_WEIGHTS=class_weight.compute_class_weight('balanced',classes=np.unique(train[\"label\"]),y=train[\"label\"])\n",
        "CLASS_WEIGHTS = torch.tensor(CLASS_WEIGHTS, dtype=torch.float).to(\"cuda\") # Changed line\n"
      ]
    },
    {
      "cell_type": "code",
      "execution_count": null,
      "id": "113c1072",
      "metadata": {
        "id": "113c1072",
        "colab": {
          "base_uri": "https://localhost:8080/"
        },
        "outputId": "b0fd68f0-25e3-4efa-b2ee-c098177cf9df"
      },
      "outputs": [
        {
          "output_type": "execute_result",
          "data": {
            "text/plain": [
              "tensor([4.4201, 0.5638], device='cuda:0')"
            ]
          },
          "metadata": {},
          "execution_count": 59
        }
      ],
      "source": [
        "CLASS_WEIGHTS"
      ]
    },
    {
      "cell_type": "code",
      "source": [
        "import torch\n",
        "from torch import nn\n",
        "from transformers import Trainer\n",
        "\n",
        "class CustomTrainer(Trainer):\n",
        "    def compute_loss(self, model, inputs, return_outputs=False, **kwargs):\n",
        "        \"\"\"\n",
        "        Custom compute_loss function to incorporate CLASS_WEIGHTS\n",
        "        \"\"\"\n",
        "        labels = inputs.get(\"labels\")\n",
        "        # forward pass\n",
        "        outputs = model(**inputs)\n",
        "        logits = outputs.get('logits')\n",
        "        # compute custom loss\n",
        "        # Ensure CLASS_WEIGHTS is on the same device as the logits and labels\n",
        "        loss_fct = nn.CrossEntropyLoss(weight=CLASS_WEIGHTS.to(logits.device), reduction='mean') # Changed line\n",
        "        loss = loss_fct(logits.view(-1, self.model.config.num_labels), labels.view(-1))\n",
        "        return (loss, outputs) if return_outputs else loss"
      ],
      "metadata": {
        "id": "R25XW2US1QHV"
      },
      "id": "R25XW2US1QHV",
      "execution_count": null,
      "outputs": []
    },
    {
      "cell_type": "code",
      "execution_count": null,
      "id": "0cf77e46",
      "metadata": {
        "id": "0cf77e46"
      },
      "outputs": [],
      "source": [
        "# class CustomTrainer(Trainer):\n",
        "#     def compute_loss(self, model, inputs, return_outputs=False, **kwargs):\n",
        "#         labels = inputs.get(\"labels\")\n",
        "#         # forward pass\n",
        "#         outputs = model(**inputs)\n",
        "#         logits = outputs.get('logits')\n",
        "#         # compute custom loss\n",
        "#         loss_fct = nn.CrossEntropyLoss(weight=CLASS_WEIGHTS,reduction='mean')\n",
        "#         loss = loss_fct(logits.view(-1, self.model.config.num_labels), labels.view(-1))\n",
        "#         return (loss, outputs) if return_outputs else loss"
      ]
    },
    {
      "cell_type": "code",
      "execution_count": null,
      "id": "c99ca8ed",
      "metadata": {
        "id": "c99ca8ed"
      },
      "outputs": [],
      "source": [
        "training_args = TrainingArguments(\n",
        "   output_dir=\"finetuning-sentiment-roberta-large-english\",\n",
        "   learning_rate=2e-5,\n",
        "   per_device_train_batch_size=8,\n",
        "   per_device_eval_batch_size=8,\n",
        "   num_train_epochs=2,\n",
        "   optim = \"adamw_torch\",\n",
        "   save_strategy=\"epoch\",\n",
        "   #use_mps_device=\"mps\",\n",
        "   no_cuda=False,\n",
        "   warmup_steps = 500,\n",
        "   weight_decay = 0.01,\n",
        "   gradient_accumulation_steps = 2,\n",
        "   fp16 = True,\n",
        "   gradient_checkpointing = True\n",
        ")"
      ]
    },
    {
      "cell_type": "code",
      "execution_count": null,
      "id": "3db738cf",
      "metadata": {
        "id": "3db738cf",
        "colab": {
          "base_uri": "https://localhost:8080/"
        },
        "outputId": "4fa7d350-c861-4fd9-80d8-8d98ab91a305"
      },
      "outputs": [
        {
          "output_type": "stream",
          "name": "stderr",
          "text": [
            "<ipython-input-66-078c40bf8fa8>:1: FutureWarning: `tokenizer` is deprecated and will be removed in version 5.0.0 for `CustomTrainer.__init__`. Use `processing_class` instead.\n",
            "  trainer = CustomTrainer(\n"
          ]
        }
      ],
      "source": [
        "trainer = CustomTrainer(\n",
        "   model=model,\n",
        "   args=training_args,\n",
        "   train_dataset=tokenized_train,\n",
        "   eval_dataset=tokenized_val,\n",
        "   tokenizer=tokenizer,\n",
        "   data_collator=data_collator,\n",
        "   compute_metrics=compute_metrics\n",
        ")"
      ]
    },
    {
      "cell_type": "code",
      "execution_count": null,
      "id": "70db2dad",
      "metadata": {
        "id": "70db2dad",
        "colab": {
          "base_uri": "https://localhost:8080/",
          "height": 537
        },
        "outputId": "85466776-e7a7-4647-e91e-fe459f7f88d7"
      },
      "outputs": [
        {
          "output_type": "error",
          "ename": "OutOfMemoryError",
          "evalue": "CUDA out of memory. Tried to allocate 16.00 MiB. GPU 0 has a total capacity of 14.75 GiB of which 11.06 MiB is free. Process 53674 has 14.73 GiB memory in use. Of the allocated memory 14.40 GiB is allocated by PyTorch, and 208.07 MiB is reserved by PyTorch but unallocated. If reserved but unallocated memory is large try setting PYTORCH_CUDA_ALLOC_CONF=expandable_segments:True to avoid fragmentation.  See documentation for Memory Management  (https://pytorch.org/docs/stable/notes/cuda.html#environment-variables)",
          "traceback": [
            "\u001b[0;31m---------------------------------------------------------------------------\u001b[0m",
            "\u001b[0;31mOutOfMemoryError\u001b[0m                          Traceback (most recent call last)",
            "\u001b[0;32m<ipython-input-67-3435b262f1ae>\u001b[0m in \u001b[0;36m<cell line: 0>\u001b[0;34m()\u001b[0m\n\u001b[0;32m----> 1\u001b[0;31m \u001b[0mtrainer\u001b[0m\u001b[0;34m.\u001b[0m\u001b[0mtrain\u001b[0m\u001b[0;34m(\u001b[0m\u001b[0;34m)\u001b[0m\u001b[0;34m\u001b[0m\u001b[0;34m\u001b[0m\u001b[0m\n\u001b[0m",
            "\u001b[0;32m/usr/local/lib/python3.11/dist-packages/transformers/trainer.py\u001b[0m in \u001b[0;36mtrain\u001b[0;34m(self, resume_from_checkpoint, trial, ignore_keys_for_eval, **kwargs)\u001b[0m\n\u001b[1;32m   2162\u001b[0m                 \u001b[0mhf_hub_utils\u001b[0m\u001b[0;34m.\u001b[0m\u001b[0menable_progress_bars\u001b[0m\u001b[0;34m(\u001b[0m\u001b[0;34m)\u001b[0m\u001b[0;34m\u001b[0m\u001b[0;34m\u001b[0m\u001b[0m\n\u001b[1;32m   2163\u001b[0m         \u001b[0;32melse\u001b[0m\u001b[0;34m:\u001b[0m\u001b[0;34m\u001b[0m\u001b[0;34m\u001b[0m\u001b[0m\n\u001b[0;32m-> 2164\u001b[0;31m             return inner_training_loop(\n\u001b[0m\u001b[1;32m   2165\u001b[0m                 \u001b[0margs\u001b[0m\u001b[0;34m=\u001b[0m\u001b[0margs\u001b[0m\u001b[0;34m,\u001b[0m\u001b[0;34m\u001b[0m\u001b[0;34m\u001b[0m\u001b[0m\n\u001b[1;32m   2166\u001b[0m                 \u001b[0mresume_from_checkpoint\u001b[0m\u001b[0;34m=\u001b[0m\u001b[0mresume_from_checkpoint\u001b[0m\u001b[0;34m,\u001b[0m\u001b[0;34m\u001b[0m\u001b[0;34m\u001b[0m\u001b[0m\n",
            "\u001b[0;32m/usr/local/lib/python3.11/dist-packages/transformers/trainer.py\u001b[0m in \u001b[0;36m_inner_training_loop\u001b[0;34m(self, batch_size, args, resume_from_checkpoint, trial, ignore_keys_for_eval)\u001b[0m\n\u001b[1;32m   2575\u001b[0m                         \u001b[0mself\u001b[0m\u001b[0;34m.\u001b[0m\u001b[0mcontrol\u001b[0m \u001b[0;34m=\u001b[0m \u001b[0mself\u001b[0m\u001b[0;34m.\u001b[0m\u001b[0mcallback_handler\u001b[0m\u001b[0;34m.\u001b[0m\u001b[0mon_pre_optimizer_step\u001b[0m\u001b[0;34m(\u001b[0m\u001b[0margs\u001b[0m\u001b[0;34m,\u001b[0m \u001b[0mself\u001b[0m\u001b[0;34m.\u001b[0m\u001b[0mstate\u001b[0m\u001b[0;34m,\u001b[0m \u001b[0mself\u001b[0m\u001b[0;34m.\u001b[0m\u001b[0mcontrol\u001b[0m\u001b[0;34m)\u001b[0m\u001b[0;34m\u001b[0m\u001b[0;34m\u001b[0m\u001b[0m\n\u001b[1;32m   2576\u001b[0m \u001b[0;34m\u001b[0m\u001b[0m\n\u001b[0;32m-> 2577\u001b[0;31m                         \u001b[0mself\u001b[0m\u001b[0;34m.\u001b[0m\u001b[0moptimizer\u001b[0m\u001b[0;34m.\u001b[0m\u001b[0mstep\u001b[0m\u001b[0;34m(\u001b[0m\u001b[0;34m)\u001b[0m\u001b[0;34m\u001b[0m\u001b[0;34m\u001b[0m\u001b[0m\n\u001b[0m\u001b[1;32m   2578\u001b[0m \u001b[0;34m\u001b[0m\u001b[0m\n\u001b[1;32m   2579\u001b[0m                         \u001b[0mself\u001b[0m\u001b[0;34m.\u001b[0m\u001b[0mcontrol\u001b[0m \u001b[0;34m=\u001b[0m \u001b[0mself\u001b[0m\u001b[0;34m.\u001b[0m\u001b[0mcallback_handler\u001b[0m\u001b[0;34m.\u001b[0m\u001b[0mon_optimizer_step\u001b[0m\u001b[0;34m(\u001b[0m\u001b[0margs\u001b[0m\u001b[0;34m,\u001b[0m \u001b[0mself\u001b[0m\u001b[0;34m.\u001b[0m\u001b[0mstate\u001b[0m\u001b[0;34m,\u001b[0m \u001b[0mself\u001b[0m\u001b[0;34m.\u001b[0m\u001b[0mcontrol\u001b[0m\u001b[0;34m)\u001b[0m\u001b[0;34m\u001b[0m\u001b[0;34m\u001b[0m\u001b[0m\n",
            "\u001b[0;32m/usr/local/lib/python3.11/dist-packages/accelerate/optimizer.py\u001b[0m in \u001b[0;36mstep\u001b[0;34m(self, closure)\u001b[0m\n\u001b[1;32m    163\u001b[0m                 \u001b[0mself\u001b[0m\u001b[0;34m.\u001b[0m\u001b[0moptimizer\u001b[0m\u001b[0;34m.\u001b[0m\u001b[0mstep\u001b[0m \u001b[0;34m=\u001b[0m \u001b[0mself\u001b[0m\u001b[0;34m.\u001b[0m\u001b[0m_optimizer_patched_step_method\u001b[0m\u001b[0;34m\u001b[0m\u001b[0;34m\u001b[0m\u001b[0m\n\u001b[1;32m    164\u001b[0m \u001b[0;34m\u001b[0m\u001b[0m\n\u001b[0;32m--> 165\u001b[0;31m                 \u001b[0mself\u001b[0m\u001b[0;34m.\u001b[0m\u001b[0mscaler\u001b[0m\u001b[0;34m.\u001b[0m\u001b[0mstep\u001b[0m\u001b[0;34m(\u001b[0m\u001b[0mself\u001b[0m\u001b[0;34m.\u001b[0m\u001b[0moptimizer\u001b[0m\u001b[0;34m,\u001b[0m \u001b[0mclosure\u001b[0m\u001b[0;34m)\u001b[0m\u001b[0;34m\u001b[0m\u001b[0;34m\u001b[0m\u001b[0m\n\u001b[0m\u001b[1;32m    166\u001b[0m                 \u001b[0mself\u001b[0m\u001b[0;34m.\u001b[0m\u001b[0mscaler\u001b[0m\u001b[0;34m.\u001b[0m\u001b[0mupdate\u001b[0m\u001b[0;34m(\u001b[0m\u001b[0;34m)\u001b[0m\u001b[0;34m\u001b[0m\u001b[0;34m\u001b[0m\u001b[0m\n\u001b[1;32m    167\u001b[0m \u001b[0;34m\u001b[0m\u001b[0m\n",
            "\u001b[0;32m/usr/local/lib/python3.11/dist-packages/torch/amp/grad_scaler.py\u001b[0m in \u001b[0;36mstep\u001b[0;34m(self, optimizer, *args, **kwargs)\u001b[0m\n\u001b[1;32m    455\u001b[0m         ), \"No inf checks were recorded for this optimizer.\"\n\u001b[1;32m    456\u001b[0m \u001b[0;34m\u001b[0m\u001b[0m\n\u001b[0;32m--> 457\u001b[0;31m         \u001b[0mretval\u001b[0m \u001b[0;34m=\u001b[0m \u001b[0mself\u001b[0m\u001b[0;34m.\u001b[0m\u001b[0m_maybe_opt_step\u001b[0m\u001b[0;34m(\u001b[0m\u001b[0moptimizer\u001b[0m\u001b[0;34m,\u001b[0m \u001b[0moptimizer_state\u001b[0m\u001b[0;34m,\u001b[0m \u001b[0;34m*\u001b[0m\u001b[0margs\u001b[0m\u001b[0;34m,\u001b[0m \u001b[0;34m**\u001b[0m\u001b[0mkwargs\u001b[0m\u001b[0;34m)\u001b[0m\u001b[0;34m\u001b[0m\u001b[0;34m\u001b[0m\u001b[0m\n\u001b[0m\u001b[1;32m    458\u001b[0m \u001b[0;34m\u001b[0m\u001b[0m\n\u001b[1;32m    459\u001b[0m         \u001b[0moptimizer_state\u001b[0m\u001b[0;34m[\u001b[0m\u001b[0;34m\"stage\"\u001b[0m\u001b[0;34m]\u001b[0m \u001b[0;34m=\u001b[0m \u001b[0mOptState\u001b[0m\u001b[0;34m.\u001b[0m\u001b[0mSTEPPED\u001b[0m\u001b[0;34m\u001b[0m\u001b[0;34m\u001b[0m\u001b[0m\n",
            "\u001b[0;32m/usr/local/lib/python3.11/dist-packages/torch/amp/grad_scaler.py\u001b[0m in \u001b[0;36m_maybe_opt_step\u001b[0;34m(self, optimizer, optimizer_state, *args, **kwargs)\u001b[0m\n\u001b[1;32m    350\u001b[0m         \u001b[0mretval\u001b[0m\u001b[0;34m:\u001b[0m \u001b[0mOptional\u001b[0m\u001b[0;34m[\u001b[0m\u001b[0mfloat\u001b[0m\u001b[0;34m]\u001b[0m \u001b[0;34m=\u001b[0m \u001b[0;32mNone\u001b[0m\u001b[0;34m\u001b[0m\u001b[0;34m\u001b[0m\u001b[0m\n\u001b[1;32m    351\u001b[0m         \u001b[0;32mif\u001b[0m \u001b[0;32mnot\u001b[0m \u001b[0msum\u001b[0m\u001b[0;34m(\u001b[0m\u001b[0mv\u001b[0m\u001b[0;34m.\u001b[0m\u001b[0mitem\u001b[0m\u001b[0;34m(\u001b[0m\u001b[0;34m)\u001b[0m \u001b[0;32mfor\u001b[0m \u001b[0mv\u001b[0m \u001b[0;32min\u001b[0m \u001b[0moptimizer_state\u001b[0m\u001b[0;34m[\u001b[0m\u001b[0;34m\"found_inf_per_device\"\u001b[0m\u001b[0;34m]\u001b[0m\u001b[0;34m.\u001b[0m\u001b[0mvalues\u001b[0m\u001b[0;34m(\u001b[0m\u001b[0;34m)\u001b[0m\u001b[0;34m)\u001b[0m\u001b[0;34m:\u001b[0m\u001b[0;34m\u001b[0m\u001b[0;34m\u001b[0m\u001b[0m\n\u001b[0;32m--> 352\u001b[0;31m             \u001b[0mretval\u001b[0m \u001b[0;34m=\u001b[0m \u001b[0moptimizer\u001b[0m\u001b[0;34m.\u001b[0m\u001b[0mstep\u001b[0m\u001b[0;34m(\u001b[0m\u001b[0;34m*\u001b[0m\u001b[0margs\u001b[0m\u001b[0;34m,\u001b[0m \u001b[0;34m**\u001b[0m\u001b[0mkwargs\u001b[0m\u001b[0;34m)\u001b[0m\u001b[0;34m\u001b[0m\u001b[0;34m\u001b[0m\u001b[0m\n\u001b[0m\u001b[1;32m    353\u001b[0m         \u001b[0;32mreturn\u001b[0m \u001b[0mretval\u001b[0m\u001b[0;34m\u001b[0m\u001b[0;34m\u001b[0m\u001b[0m\n\u001b[1;32m    354\u001b[0m \u001b[0;34m\u001b[0m\u001b[0m\n",
            "\u001b[0;32m/usr/local/lib/python3.11/dist-packages/accelerate/optimizer.py\u001b[0m in \u001b[0;36mpatched_step\u001b[0;34m(*args, **kwargs)\u001b[0m\n\u001b[1;32m    208\u001b[0m     \u001b[0;32mdef\u001b[0m \u001b[0mpatched_step\u001b[0m\u001b[0;34m(\u001b[0m\u001b[0;34m*\u001b[0m\u001b[0margs\u001b[0m\u001b[0;34m,\u001b[0m \u001b[0;34m**\u001b[0m\u001b[0mkwargs\u001b[0m\u001b[0;34m)\u001b[0m\u001b[0;34m:\u001b[0m\u001b[0;34m\u001b[0m\u001b[0;34m\u001b[0m\u001b[0m\n\u001b[1;32m    209\u001b[0m         \u001b[0maccelerated_optimizer\u001b[0m\u001b[0;34m.\u001b[0m\u001b[0m_accelerate_step_called\u001b[0m \u001b[0;34m=\u001b[0m \u001b[0;32mTrue\u001b[0m\u001b[0;34m\u001b[0m\u001b[0;34m\u001b[0m\u001b[0m\n\u001b[0;32m--> 210\u001b[0;31m         \u001b[0;32mreturn\u001b[0m \u001b[0mmethod\u001b[0m\u001b[0;34m(\u001b[0m\u001b[0;34m*\u001b[0m\u001b[0margs\u001b[0m\u001b[0;34m,\u001b[0m \u001b[0;34m**\u001b[0m\u001b[0mkwargs\u001b[0m\u001b[0;34m)\u001b[0m\u001b[0;34m\u001b[0m\u001b[0;34m\u001b[0m\u001b[0m\n\u001b[0m\u001b[1;32m    211\u001b[0m \u001b[0;34m\u001b[0m\u001b[0m\n\u001b[1;32m    212\u001b[0m     \u001b[0;32mreturn\u001b[0m \u001b[0mpatched_step\u001b[0m\u001b[0;34m\u001b[0m\u001b[0;34m\u001b[0m\u001b[0m\n",
            "\u001b[0;32m/usr/local/lib/python3.11/dist-packages/torch/optim/lr_scheduler.py\u001b[0m in \u001b[0;36mwrapper\u001b[0;34m(*args, **kwargs)\u001b[0m\n\u001b[1;32m    135\u001b[0m                     \u001b[0mopt\u001b[0m \u001b[0;34m=\u001b[0m \u001b[0mopt_ref\u001b[0m\u001b[0;34m(\u001b[0m\u001b[0;34m)\u001b[0m\u001b[0;34m\u001b[0m\u001b[0;34m\u001b[0m\u001b[0m\n\u001b[1;32m    136\u001b[0m                     \u001b[0mopt\u001b[0m\u001b[0;34m.\u001b[0m\u001b[0m_opt_called\u001b[0m \u001b[0;34m=\u001b[0m \u001b[0;32mTrue\u001b[0m  \u001b[0;31m# type: ignore[union-attr]\u001b[0m\u001b[0;34m\u001b[0m\u001b[0;34m\u001b[0m\u001b[0m\n\u001b[0;32m--> 137\u001b[0;31m                     \u001b[0;32mreturn\u001b[0m \u001b[0mfunc\u001b[0m\u001b[0;34m.\u001b[0m\u001b[0m__get__\u001b[0m\u001b[0;34m(\u001b[0m\u001b[0mopt\u001b[0m\u001b[0;34m,\u001b[0m \u001b[0mopt\u001b[0m\u001b[0;34m.\u001b[0m\u001b[0m__class__\u001b[0m\u001b[0;34m)\u001b[0m\u001b[0;34m(\u001b[0m\u001b[0;34m*\u001b[0m\u001b[0margs\u001b[0m\u001b[0;34m,\u001b[0m \u001b[0;34m**\u001b[0m\u001b[0mkwargs\u001b[0m\u001b[0;34m)\u001b[0m\u001b[0;34m\u001b[0m\u001b[0;34m\u001b[0m\u001b[0m\n\u001b[0m\u001b[1;32m    138\u001b[0m \u001b[0;34m\u001b[0m\u001b[0m\n\u001b[1;32m    139\u001b[0m                 \u001b[0mwrapper\u001b[0m\u001b[0;34m.\u001b[0m\u001b[0m_wrapped_by_lr_sched\u001b[0m \u001b[0;34m=\u001b[0m \u001b[0;32mTrue\u001b[0m  \u001b[0;31m# type: ignore[attr-defined]\u001b[0m\u001b[0;34m\u001b[0m\u001b[0;34m\u001b[0m\u001b[0m\n",
            "\u001b[0;32m/usr/local/lib/python3.11/dist-packages/torch/optim/optimizer.py\u001b[0m in \u001b[0;36mwrapper\u001b[0;34m(*args, **kwargs)\u001b[0m\n\u001b[1;32m    485\u001b[0m                             )\n\u001b[1;32m    486\u001b[0m \u001b[0;34m\u001b[0m\u001b[0m\n\u001b[0;32m--> 487\u001b[0;31m                 \u001b[0mout\u001b[0m \u001b[0;34m=\u001b[0m \u001b[0mfunc\u001b[0m\u001b[0;34m(\u001b[0m\u001b[0;34m*\u001b[0m\u001b[0margs\u001b[0m\u001b[0;34m,\u001b[0m \u001b[0;34m**\u001b[0m\u001b[0mkwargs\u001b[0m\u001b[0;34m)\u001b[0m\u001b[0;34m\u001b[0m\u001b[0;34m\u001b[0m\u001b[0m\n\u001b[0m\u001b[1;32m    488\u001b[0m                 \u001b[0mself\u001b[0m\u001b[0;34m.\u001b[0m\u001b[0m_optimizer_step_code\u001b[0m\u001b[0;34m(\u001b[0m\u001b[0;34m)\u001b[0m\u001b[0;34m\u001b[0m\u001b[0;34m\u001b[0m\u001b[0m\n\u001b[1;32m    489\u001b[0m \u001b[0;34m\u001b[0m\u001b[0m\n",
            "\u001b[0;32m/usr/local/lib/python3.11/dist-packages/torch/optim/optimizer.py\u001b[0m in \u001b[0;36m_use_grad\u001b[0;34m(self, *args, **kwargs)\u001b[0m\n\u001b[1;32m     89\u001b[0m             \u001b[0mtorch\u001b[0m\u001b[0;34m.\u001b[0m\u001b[0mset_grad_enabled\u001b[0m\u001b[0;34m(\u001b[0m\u001b[0mself\u001b[0m\u001b[0;34m.\u001b[0m\u001b[0mdefaults\u001b[0m\u001b[0;34m[\u001b[0m\u001b[0;34m\"differentiable\"\u001b[0m\u001b[0;34m]\u001b[0m\u001b[0;34m)\u001b[0m\u001b[0;34m\u001b[0m\u001b[0;34m\u001b[0m\u001b[0m\n\u001b[1;32m     90\u001b[0m             \u001b[0mtorch\u001b[0m\u001b[0;34m.\u001b[0m\u001b[0m_dynamo\u001b[0m\u001b[0;34m.\u001b[0m\u001b[0mgraph_break\u001b[0m\u001b[0;34m(\u001b[0m\u001b[0;34m)\u001b[0m\u001b[0;34m\u001b[0m\u001b[0;34m\u001b[0m\u001b[0m\n\u001b[0;32m---> 91\u001b[0;31m             \u001b[0mret\u001b[0m \u001b[0;34m=\u001b[0m \u001b[0mfunc\u001b[0m\u001b[0;34m(\u001b[0m\u001b[0mself\u001b[0m\u001b[0;34m,\u001b[0m \u001b[0;34m*\u001b[0m\u001b[0margs\u001b[0m\u001b[0;34m,\u001b[0m \u001b[0;34m**\u001b[0m\u001b[0mkwargs\u001b[0m\u001b[0;34m)\u001b[0m\u001b[0;34m\u001b[0m\u001b[0;34m\u001b[0m\u001b[0m\n\u001b[0m\u001b[1;32m     92\u001b[0m         \u001b[0;32mfinally\u001b[0m\u001b[0;34m:\u001b[0m\u001b[0;34m\u001b[0m\u001b[0;34m\u001b[0m\u001b[0m\n\u001b[1;32m     93\u001b[0m             \u001b[0mtorch\u001b[0m\u001b[0;34m.\u001b[0m\u001b[0m_dynamo\u001b[0m\u001b[0;34m.\u001b[0m\u001b[0mgraph_break\u001b[0m\u001b[0;34m(\u001b[0m\u001b[0;34m)\u001b[0m\u001b[0;34m\u001b[0m\u001b[0;34m\u001b[0m\u001b[0m\n",
            "\u001b[0;32m/usr/local/lib/python3.11/dist-packages/torch/optim/adamw.py\u001b[0m in \u001b[0;36mstep\u001b[0;34m(self, closure)\u001b[0m\n\u001b[1;32m    218\u001b[0m             )\n\u001b[1;32m    219\u001b[0m \u001b[0;34m\u001b[0m\u001b[0m\n\u001b[0;32m--> 220\u001b[0;31m             adamw(\n\u001b[0m\u001b[1;32m    221\u001b[0m                 \u001b[0mparams_with_grad\u001b[0m\u001b[0;34m,\u001b[0m\u001b[0;34m\u001b[0m\u001b[0;34m\u001b[0m\u001b[0m\n\u001b[1;32m    222\u001b[0m                 \u001b[0mgrads\u001b[0m\u001b[0;34m,\u001b[0m\u001b[0;34m\u001b[0m\u001b[0;34m\u001b[0m\u001b[0m\n",
            "\u001b[0;32m/usr/local/lib/python3.11/dist-packages/torch/optim/optimizer.py\u001b[0m in \u001b[0;36mmaybe_fallback\u001b[0;34m(*args, **kwargs)\u001b[0m\n\u001b[1;32m    152\u001b[0m                 \u001b[0;32mreturn\u001b[0m \u001b[0mdisabled_func\u001b[0m\u001b[0;34m(\u001b[0m\u001b[0;34m*\u001b[0m\u001b[0margs\u001b[0m\u001b[0;34m,\u001b[0m \u001b[0;34m**\u001b[0m\u001b[0mkwargs\u001b[0m\u001b[0;34m)\u001b[0m\u001b[0;34m\u001b[0m\u001b[0;34m\u001b[0m\u001b[0m\n\u001b[1;32m    153\u001b[0m             \u001b[0;32melse\u001b[0m\u001b[0;34m:\u001b[0m\u001b[0;34m\u001b[0m\u001b[0;34m\u001b[0m\u001b[0m\n\u001b[0;32m--> 154\u001b[0;31m                 \u001b[0;32mreturn\u001b[0m \u001b[0mfunc\u001b[0m\u001b[0;34m(\u001b[0m\u001b[0;34m*\u001b[0m\u001b[0margs\u001b[0m\u001b[0;34m,\u001b[0m \u001b[0;34m**\u001b[0m\u001b[0mkwargs\u001b[0m\u001b[0;34m)\u001b[0m\u001b[0;34m\u001b[0m\u001b[0;34m\u001b[0m\u001b[0m\n\u001b[0m\u001b[1;32m    155\u001b[0m \u001b[0;34m\u001b[0m\u001b[0m\n\u001b[1;32m    156\u001b[0m         \u001b[0;32mreturn\u001b[0m \u001b[0mmaybe_fallback\u001b[0m\u001b[0;34m\u001b[0m\u001b[0;34m\u001b[0m\u001b[0m\n",
            "\u001b[0;32m/usr/local/lib/python3.11/dist-packages/torch/optim/adamw.py\u001b[0m in \u001b[0;36madamw\u001b[0;34m(params, grads, exp_avgs, exp_avg_sqs, max_exp_avg_sqs, state_steps, foreach, capturable, differentiable, fused, grad_scale, found_inf, has_complex, amsgrad, beta1, beta2, lr, weight_decay, eps, maximize)\u001b[0m\n\u001b[1;32m    780\u001b[0m         \u001b[0mfunc\u001b[0m \u001b[0;34m=\u001b[0m \u001b[0m_single_tensor_adamw\u001b[0m\u001b[0;34m\u001b[0m\u001b[0;34m\u001b[0m\u001b[0m\n\u001b[1;32m    781\u001b[0m \u001b[0;34m\u001b[0m\u001b[0m\n\u001b[0;32m--> 782\u001b[0;31m     func(\n\u001b[0m\u001b[1;32m    783\u001b[0m         \u001b[0mparams\u001b[0m\u001b[0;34m,\u001b[0m\u001b[0;34m\u001b[0m\u001b[0;34m\u001b[0m\u001b[0m\n\u001b[1;32m    784\u001b[0m         \u001b[0mgrads\u001b[0m\u001b[0;34m,\u001b[0m\u001b[0;34m\u001b[0m\u001b[0;34m\u001b[0m\u001b[0m\n",
            "\u001b[0;32m/usr/local/lib/python3.11/dist-packages/torch/optim/adamw.py\u001b[0m in \u001b[0;36m_multi_tensor_adamw\u001b[0;34m(params, grads, exp_avgs, exp_avg_sqs, max_exp_avg_sqs, state_steps, grad_scale, found_inf, amsgrad, beta1, beta2, lr, weight_decay, eps, maximize, capturable, differentiable, has_complex)\u001b[0m\n\u001b[1;32m    604\u001b[0m                 \u001b[0mexp_avg_sq_sqrt\u001b[0m \u001b[0;34m=\u001b[0m \u001b[0mtorch\u001b[0m\u001b[0;34m.\u001b[0m\u001b[0m_foreach_sqrt\u001b[0m\u001b[0;34m(\u001b[0m\u001b[0mdevice_max_exp_avg_sqs\u001b[0m\u001b[0;34m)\u001b[0m\u001b[0;34m\u001b[0m\u001b[0;34m\u001b[0m\u001b[0m\n\u001b[1;32m    605\u001b[0m             \u001b[0;32melse\u001b[0m\u001b[0;34m:\u001b[0m\u001b[0;34m\u001b[0m\u001b[0;34m\u001b[0m\u001b[0m\n\u001b[0;32m--> 606\u001b[0;31m                 \u001b[0mexp_avg_sq_sqrt\u001b[0m \u001b[0;34m=\u001b[0m \u001b[0mtorch\u001b[0m\u001b[0;34m.\u001b[0m\u001b[0m_foreach_sqrt\u001b[0m\u001b[0;34m(\u001b[0m\u001b[0mdevice_exp_avg_sqs\u001b[0m\u001b[0;34m)\u001b[0m\u001b[0;34m\u001b[0m\u001b[0;34m\u001b[0m\u001b[0m\n\u001b[0m\u001b[1;32m    607\u001b[0m \u001b[0;34m\u001b[0m\u001b[0m\n\u001b[1;32m    608\u001b[0m             \u001b[0mtorch\u001b[0m\u001b[0;34m.\u001b[0m\u001b[0m_foreach_div_\u001b[0m\u001b[0;34m(\u001b[0m\u001b[0mexp_avg_sq_sqrt\u001b[0m\u001b[0;34m,\u001b[0m \u001b[0mbias_correction2_sqrt\u001b[0m\u001b[0;34m)\u001b[0m\u001b[0;34m\u001b[0m\u001b[0;34m\u001b[0m\u001b[0m\n",
            "\u001b[0;31mOutOfMemoryError\u001b[0m: CUDA out of memory. Tried to allocate 16.00 MiB. GPU 0 has a total capacity of 14.75 GiB of which 11.06 MiB is free. Process 53674 has 14.73 GiB memory in use. Of the allocated memory 14.40 GiB is allocated by PyTorch, and 208.07 MiB is reserved by PyTorch but unallocated. If reserved but unallocated memory is large try setting PYTORCH_CUDA_ALLOC_CONF=expandable_segments:True to avoid fragmentation.  See documentation for Memory Management  (https://pytorch.org/docs/stable/notes/cuda.html#environment-variables)"
          ]
        }
      ],
      "source": [
        "trainer.train()"
      ]
    },
    {
      "cell_type": "code",
      "execution_count": null,
      "id": "99078df2",
      "metadata": {
        "id": "99078df2",
        "colab": {
          "base_uri": "https://localhost:8080/",
          "height": 173
        },
        "outputId": "71d6c7e9-fd8c-4c26-b387-912b9c75f055"
      },
      "outputs": [
        {
          "output_type": "error",
          "ename": "NameError",
          "evalue": "name 'trainer' is not defined",
          "traceback": [
            "\u001b[0;31m---------------------------------------------------------------------------\u001b[0m",
            "\u001b[0;31mNameError\u001b[0m                                 Traceback (most recent call last)",
            "\u001b[0;32m<ipython-input-1-f245b31d31e3>\u001b[0m in \u001b[0;36m<cell line: 0>\u001b[0;34m()\u001b[0m\n\u001b[0;32m----> 1\u001b[0;31m \u001b[0mtrainer\u001b[0m\u001b[0;34m.\u001b[0m\u001b[0mevaluate\u001b[0m\u001b[0;34m(\u001b[0m\u001b[0;34m)\u001b[0m\u001b[0;34m\u001b[0m\u001b[0;34m\u001b[0m\u001b[0m\n\u001b[0m",
            "\u001b[0;31mNameError\u001b[0m: name 'trainer' is not defined"
          ]
        }
      ],
      "source": [
        "trainer.evaluate()"
      ]
    },
    {
      "cell_type": "code",
      "execution_count": null,
      "id": "8d38a219",
      "metadata": {
        "id": "8d38a219"
      },
      "outputs": [],
      "source": [
        "trainer.save_model(\"sentiment-roberta-large-english-fine-tuned\")"
      ]
    },
    {
      "cell_type": "code",
      "execution_count": null,
      "id": "3dcf6df9",
      "metadata": {
        "id": "3dcf6df9"
      },
      "outputs": [],
      "source": [
        "sentiment_model_fine_tuned =  pipeline(\"sentiment-analysis\",model=\"sentiment-roberta-large-english-fine-tuned\",truncation = True)"
      ]
    },
    {
      "cell_type": "code",
      "execution_count": null,
      "id": "afb0319e",
      "metadata": {
        "id": "afb0319e"
      },
      "outputs": [],
      "source": [
        "test_fine_tuned_prediction = get_predictions(test_basis, sentiment_model_fine_tuned)"
      ]
    },
    {
      "cell_type": "code",
      "execution_count": null,
      "id": "86b98a85",
      "metadata": {
        "id": "86b98a85"
      },
      "outputs": [],
      "source": [
        "print(classification_report(test_fine_tuned_prediction.label, test_fine_tuned_prediction.predicted))"
      ]
    },
    {
      "cell_type": "code",
      "execution_count": null,
      "id": "52ff964c",
      "metadata": {
        "id": "52ff964c"
      },
      "outputs": [],
      "source": [
        "# check if there are any unpredicted comments\n",
        "test_fine_tuned_prediction[test_fine_tuned_prediction.predicted.isnull()==True]"
      ]
    },
    {
      "cell_type": "markdown",
      "id": "43a35e15",
      "metadata": {
        "id": "43a35e15"
      },
      "source": [
        "## Summary"
      ]
    },
    {
      "cell_type": "markdown",
      "id": "c8f3222d",
      "metadata": {
        "id": "c8f3222d"
      },
      "source": [
        "As shown above the dataset was imbalanced. For this reason, I tested two approaches:\n",
        "1.\tEstimated the weights for imbalanced dataset and forwarded them to the CrossEntropyLoss(). The argument “weight” has impact on the importance of each class\n"
      ]
    },
    {
      "cell_type": "markdown",
      "id": "504e2698",
      "metadata": {
        "id": "504e2698"
      },
      "source": [
        "                 precision    recall  f1-score   support\n",
        "\n",
        "           0       0.69      0.53      0.60        45\n",
        "           1       0.98      0.99      0.98       832\n",
        "\n",
        "    accuracy                            0.96       877\n",
        "    macro avg       0.83      0.76      0.79       877\n",
        "    weighted avg    0.96      0.96      0.96       877\n",
        "\n"
      ]
    },
    {
      "cell_type": "markdown",
      "id": "fe8290b8",
      "metadata": {
        "id": "fe8290b8"
      },
      "source": [
        "2. Random oversampling  the minority of class through Back Translation"
      ]
    },
    {
      "cell_type": "markdown",
      "id": "328b9d0d",
      "metadata": {
        "id": "328b9d0d"
      },
      "source": [
        "                   precision    recall  f1-score   support\n",
        "\n",
        "           0       0.54      0.49      0.51        45\n",
        "           1       0.97      0.98      0.97       832\n",
        "\n",
        "    accuracy                            0.95       877\n",
        "    macro avg       0.75      0.73      0.74       877\n",
        "    weighted avg    0.95      0.95      0.95       877\n",
        "\n"
      ]
    },
    {
      "cell_type": "markdown",
      "id": "2147b5e7",
      "metadata": {
        "id": "2147b5e7"
      },
      "source": [
        "Overall our sentiment analysis shows, that estimation of the weights for imbalanced dataset has more impact on the f-score for negative class and improved the model performance compared to the baseline by 0.03 for negative class and by 0.01 for positive.\n",
        "\n",
        "Furthermore, the technique used was to help us to compare the three models namely: oversampling, weights estimation and baseline. In result, we can observe the decrease of the f1-score for negative examples (oversampling) by 0.09 compared to weights estimation and by 0.06 compared to baseline model.  Noticeably, the model has challenges to generalize on the test set and considerable increased the training time."
      ]
    },
    {
      "cell_type": "code",
      "execution_count": null,
      "id": "c05eaeb2",
      "metadata": {
        "id": "c05eaeb2"
      },
      "outputs": [],
      "source": []
    }
  ],
  "metadata": {
    "kernelspec": {
      "display_name": "Python 3",
      "name": "python3"
    },
    "language_info": {
      "codemirror_mode": {
        "name": "ipython",
        "version": 3
      },
      "file_extension": ".py",
      "mimetype": "text/x-python",
      "name": "python",
      "nbconvert_exporter": "python",
      "pygments_lexer": "ipython3",
      "version": "3.9.13"
    },
    "colab": {
      "provenance": [],
      "gpuType": "T4"
    },
    "accelerator": "GPU",
    "widgets": {
      "application/vnd.jupyter.widget-state+json": {
        "efefa1978a7743799d74ee72da8b6a7e": {
          "model_module": "@jupyter-widgets/controls",
          "model_name": "HBoxModel",
          "model_module_version": "1.5.0",
          "state": {
            "_dom_classes": [],
            "_model_module": "@jupyter-widgets/controls",
            "_model_module_version": "1.5.0",
            "_model_name": "HBoxModel",
            "_view_count": null,
            "_view_module": "@jupyter-widgets/controls",
            "_view_module_version": "1.5.0",
            "_view_name": "HBoxView",
            "box_style": "",
            "children": [
              "IPY_MODEL_7f09a8adba654b38a3177a699eb404ce",
              "IPY_MODEL_1083f7c14ffe4c8580fb0e6e71eb64e3",
              "IPY_MODEL_13c8f7078a0b450bba40ec18ffc87793"
            ],
            "layout": "IPY_MODEL_436ec0f5e5ad49a1ac3ba2227e827106"
          }
        },
        "7f09a8adba654b38a3177a699eb404ce": {
          "model_module": "@jupyter-widgets/controls",
          "model_name": "HTMLModel",
          "model_module_version": "1.5.0",
          "state": {
            "_dom_classes": [],
            "_model_module": "@jupyter-widgets/controls",
            "_model_module_version": "1.5.0",
            "_model_name": "HTMLModel",
            "_view_count": null,
            "_view_module": "@jupyter-widgets/controls",
            "_view_module_version": "1.5.0",
            "_view_name": "HTMLView",
            "description": "",
            "description_tooltip": null,
            "layout": "IPY_MODEL_af6ccd58149040f4bfc78f7a182954dc",
            "placeholder": "​",
            "style": "IPY_MODEL_b78c7df32ed8484cbbc594e307ed00d5",
            "value": "Map: 100%"
          }
        },
        "1083f7c14ffe4c8580fb0e6e71eb64e3": {
          "model_module": "@jupyter-widgets/controls",
          "model_name": "FloatProgressModel",
          "model_module_version": "1.5.0",
          "state": {
            "_dom_classes": [],
            "_model_module": "@jupyter-widgets/controls",
            "_model_module_version": "1.5.0",
            "_model_name": "FloatProgressModel",
            "_view_count": null,
            "_view_module": "@jupyter-widgets/controls",
            "_view_module_version": "1.5.0",
            "_view_name": "ProgressView",
            "bar_style": "success",
            "description": "",
            "description_tooltip": null,
            "layout": "IPY_MODEL_0c3ce0c7a7e94f5e9fbbd3e350663522",
            "max": 10900,
            "min": 0,
            "orientation": "horizontal",
            "style": "IPY_MODEL_c2ffb621ac6c4e96b6b83feac23564c2",
            "value": 10900
          }
        },
        "13c8f7078a0b450bba40ec18ffc87793": {
          "model_module": "@jupyter-widgets/controls",
          "model_name": "HTMLModel",
          "model_module_version": "1.5.0",
          "state": {
            "_dom_classes": [],
            "_model_module": "@jupyter-widgets/controls",
            "_model_module_version": "1.5.0",
            "_model_name": "HTMLModel",
            "_view_count": null,
            "_view_module": "@jupyter-widgets/controls",
            "_view_module_version": "1.5.0",
            "_view_name": "HTMLView",
            "description": "",
            "description_tooltip": null,
            "layout": "IPY_MODEL_a0891c9e46cd4583acde5612d05e278a",
            "placeholder": "​",
            "style": "IPY_MODEL_446263c68579421280b43b256f18b537",
            "value": " 10900/10900 [00:02&lt;00:00, 3993.57 examples/s]"
          }
        },
        "436ec0f5e5ad49a1ac3ba2227e827106": {
          "model_module": "@jupyter-widgets/base",
          "model_name": "LayoutModel",
          "model_module_version": "1.2.0",
          "state": {
            "_model_module": "@jupyter-widgets/base",
            "_model_module_version": "1.2.0",
            "_model_name": "LayoutModel",
            "_view_count": null,
            "_view_module": "@jupyter-widgets/base",
            "_view_module_version": "1.2.0",
            "_view_name": "LayoutView",
            "align_content": null,
            "align_items": null,
            "align_self": null,
            "border": null,
            "bottom": null,
            "display": null,
            "flex": null,
            "flex_flow": null,
            "grid_area": null,
            "grid_auto_columns": null,
            "grid_auto_flow": null,
            "grid_auto_rows": null,
            "grid_column": null,
            "grid_gap": null,
            "grid_row": null,
            "grid_template_areas": null,
            "grid_template_columns": null,
            "grid_template_rows": null,
            "height": null,
            "justify_content": null,
            "justify_items": null,
            "left": null,
            "margin": null,
            "max_height": null,
            "max_width": null,
            "min_height": null,
            "min_width": null,
            "object_fit": null,
            "object_position": null,
            "order": null,
            "overflow": null,
            "overflow_x": null,
            "overflow_y": null,
            "padding": null,
            "right": null,
            "top": null,
            "visibility": null,
            "width": null
          }
        },
        "af6ccd58149040f4bfc78f7a182954dc": {
          "model_module": "@jupyter-widgets/base",
          "model_name": "LayoutModel",
          "model_module_version": "1.2.0",
          "state": {
            "_model_module": "@jupyter-widgets/base",
            "_model_module_version": "1.2.0",
            "_model_name": "LayoutModel",
            "_view_count": null,
            "_view_module": "@jupyter-widgets/base",
            "_view_module_version": "1.2.0",
            "_view_name": "LayoutView",
            "align_content": null,
            "align_items": null,
            "align_self": null,
            "border": null,
            "bottom": null,
            "display": null,
            "flex": null,
            "flex_flow": null,
            "grid_area": null,
            "grid_auto_columns": null,
            "grid_auto_flow": null,
            "grid_auto_rows": null,
            "grid_column": null,
            "grid_gap": null,
            "grid_row": null,
            "grid_template_areas": null,
            "grid_template_columns": null,
            "grid_template_rows": null,
            "height": null,
            "justify_content": null,
            "justify_items": null,
            "left": null,
            "margin": null,
            "max_height": null,
            "max_width": null,
            "min_height": null,
            "min_width": null,
            "object_fit": null,
            "object_position": null,
            "order": null,
            "overflow": null,
            "overflow_x": null,
            "overflow_y": null,
            "padding": null,
            "right": null,
            "top": null,
            "visibility": null,
            "width": null
          }
        },
        "b78c7df32ed8484cbbc594e307ed00d5": {
          "model_module": "@jupyter-widgets/controls",
          "model_name": "DescriptionStyleModel",
          "model_module_version": "1.5.0",
          "state": {
            "_model_module": "@jupyter-widgets/controls",
            "_model_module_version": "1.5.0",
            "_model_name": "DescriptionStyleModel",
            "_view_count": null,
            "_view_module": "@jupyter-widgets/base",
            "_view_module_version": "1.2.0",
            "_view_name": "StyleView",
            "description_width": ""
          }
        },
        "0c3ce0c7a7e94f5e9fbbd3e350663522": {
          "model_module": "@jupyter-widgets/base",
          "model_name": "LayoutModel",
          "model_module_version": "1.2.0",
          "state": {
            "_model_module": "@jupyter-widgets/base",
            "_model_module_version": "1.2.0",
            "_model_name": "LayoutModel",
            "_view_count": null,
            "_view_module": "@jupyter-widgets/base",
            "_view_module_version": "1.2.0",
            "_view_name": "LayoutView",
            "align_content": null,
            "align_items": null,
            "align_self": null,
            "border": null,
            "bottom": null,
            "display": null,
            "flex": null,
            "flex_flow": null,
            "grid_area": null,
            "grid_auto_columns": null,
            "grid_auto_flow": null,
            "grid_auto_rows": null,
            "grid_column": null,
            "grid_gap": null,
            "grid_row": null,
            "grid_template_areas": null,
            "grid_template_columns": null,
            "grid_template_rows": null,
            "height": null,
            "justify_content": null,
            "justify_items": null,
            "left": null,
            "margin": null,
            "max_height": null,
            "max_width": null,
            "min_height": null,
            "min_width": null,
            "object_fit": null,
            "object_position": null,
            "order": null,
            "overflow": null,
            "overflow_x": null,
            "overflow_y": null,
            "padding": null,
            "right": null,
            "top": null,
            "visibility": null,
            "width": null
          }
        },
        "c2ffb621ac6c4e96b6b83feac23564c2": {
          "model_module": "@jupyter-widgets/controls",
          "model_name": "ProgressStyleModel",
          "model_module_version": "1.5.0",
          "state": {
            "_model_module": "@jupyter-widgets/controls",
            "_model_module_version": "1.5.0",
            "_model_name": "ProgressStyleModel",
            "_view_count": null,
            "_view_module": "@jupyter-widgets/base",
            "_view_module_version": "1.2.0",
            "_view_name": "StyleView",
            "bar_color": null,
            "description_width": ""
          }
        },
        "a0891c9e46cd4583acde5612d05e278a": {
          "model_module": "@jupyter-widgets/base",
          "model_name": "LayoutModel",
          "model_module_version": "1.2.0",
          "state": {
            "_model_module": "@jupyter-widgets/base",
            "_model_module_version": "1.2.0",
            "_model_name": "LayoutModel",
            "_view_count": null,
            "_view_module": "@jupyter-widgets/base",
            "_view_module_version": "1.2.0",
            "_view_name": "LayoutView",
            "align_content": null,
            "align_items": null,
            "align_self": null,
            "border": null,
            "bottom": null,
            "display": null,
            "flex": null,
            "flex_flow": null,
            "grid_area": null,
            "grid_auto_columns": null,
            "grid_auto_flow": null,
            "grid_auto_rows": null,
            "grid_column": null,
            "grid_gap": null,
            "grid_row": null,
            "grid_template_areas": null,
            "grid_template_columns": null,
            "grid_template_rows": null,
            "height": null,
            "justify_content": null,
            "justify_items": null,
            "left": null,
            "margin": null,
            "max_height": null,
            "max_width": null,
            "min_height": null,
            "min_width": null,
            "object_fit": null,
            "object_position": null,
            "order": null,
            "overflow": null,
            "overflow_x": null,
            "overflow_y": null,
            "padding": null,
            "right": null,
            "top": null,
            "visibility": null,
            "width": null
          }
        },
        "446263c68579421280b43b256f18b537": {
          "model_module": "@jupyter-widgets/controls",
          "model_name": "DescriptionStyleModel",
          "model_module_version": "1.5.0",
          "state": {
            "_model_module": "@jupyter-widgets/controls",
            "_model_module_version": "1.5.0",
            "_model_name": "DescriptionStyleModel",
            "_view_count": null,
            "_view_module": "@jupyter-widgets/base",
            "_view_module_version": "1.2.0",
            "_view_name": "StyleView",
            "description_width": ""
          }
        },
        "394cf85eb4614549a4bf57388861e5d0": {
          "model_module": "@jupyter-widgets/controls",
          "model_name": "HBoxModel",
          "model_module_version": "1.5.0",
          "state": {
            "_dom_classes": [],
            "_model_module": "@jupyter-widgets/controls",
            "_model_module_version": "1.5.0",
            "_model_name": "HBoxModel",
            "_view_count": null,
            "_view_module": "@jupyter-widgets/controls",
            "_view_module_version": "1.5.0",
            "_view_name": "HBoxView",
            "box_style": "",
            "children": [
              "IPY_MODEL_6e8eb21ac9ec4c6a843eb43e24643be4",
              "IPY_MODEL_8ce57030a89f41c2a36e46d467899c45",
              "IPY_MODEL_6a6e1ef646fb4c45b744f4197a1edb7c"
            ],
            "layout": "IPY_MODEL_15473a3622a7482990d9eb0b00e2b0eb"
          }
        },
        "6e8eb21ac9ec4c6a843eb43e24643be4": {
          "model_module": "@jupyter-widgets/controls",
          "model_name": "HTMLModel",
          "model_module_version": "1.5.0",
          "state": {
            "_dom_classes": [],
            "_model_module": "@jupyter-widgets/controls",
            "_model_module_version": "1.5.0",
            "_model_name": "HTMLModel",
            "_view_count": null,
            "_view_module": "@jupyter-widgets/controls",
            "_view_module_version": "1.5.0",
            "_view_name": "HTMLView",
            "description": "",
            "description_tooltip": null,
            "layout": "IPY_MODEL_8b966a8d9cd04073a27ce68fc4a364f9",
            "placeholder": "​",
            "style": "IPY_MODEL_a1de042107e5470ba3145060b43c57a1",
            "value": "Map: 100%"
          }
        },
        "8ce57030a89f41c2a36e46d467899c45": {
          "model_module": "@jupyter-widgets/controls",
          "model_name": "FloatProgressModel",
          "model_module_version": "1.5.0",
          "state": {
            "_dom_classes": [],
            "_model_module": "@jupyter-widgets/controls",
            "_model_module_version": "1.5.0",
            "_model_name": "FloatProgressModel",
            "_view_count": null,
            "_view_module": "@jupyter-widgets/controls",
            "_view_module_version": "1.5.0",
            "_view_name": "ProgressView",
            "bar_style": "success",
            "description": "",
            "description_tooltip": null,
            "layout": "IPY_MODEL_24eb451720af4785b7022e5e82c786a6",
            "max": 3634,
            "min": 0,
            "orientation": "horizontal",
            "style": "IPY_MODEL_39859d0d79b841008459dc987195f883",
            "value": 3634
          }
        },
        "6a6e1ef646fb4c45b744f4197a1edb7c": {
          "model_module": "@jupyter-widgets/controls",
          "model_name": "HTMLModel",
          "model_module_version": "1.5.0",
          "state": {
            "_dom_classes": [],
            "_model_module": "@jupyter-widgets/controls",
            "_model_module_version": "1.5.0",
            "_model_name": "HTMLModel",
            "_view_count": null,
            "_view_module": "@jupyter-widgets/controls",
            "_view_module_version": "1.5.0",
            "_view_name": "HTMLView",
            "description": "",
            "description_tooltip": null,
            "layout": "IPY_MODEL_bbde39c9ecd8426ca8fc6a708fd78e06",
            "placeholder": "​",
            "style": "IPY_MODEL_41a36239ebfb44f4bed7e98b98cdd2fa",
            "value": " 3634/3634 [00:00&lt;00:00, 4049.69 examples/s]"
          }
        },
        "15473a3622a7482990d9eb0b00e2b0eb": {
          "model_module": "@jupyter-widgets/base",
          "model_name": "LayoutModel",
          "model_module_version": "1.2.0",
          "state": {
            "_model_module": "@jupyter-widgets/base",
            "_model_module_version": "1.2.0",
            "_model_name": "LayoutModel",
            "_view_count": null,
            "_view_module": "@jupyter-widgets/base",
            "_view_module_version": "1.2.0",
            "_view_name": "LayoutView",
            "align_content": null,
            "align_items": null,
            "align_self": null,
            "border": null,
            "bottom": null,
            "display": null,
            "flex": null,
            "flex_flow": null,
            "grid_area": null,
            "grid_auto_columns": null,
            "grid_auto_flow": null,
            "grid_auto_rows": null,
            "grid_column": null,
            "grid_gap": null,
            "grid_row": null,
            "grid_template_areas": null,
            "grid_template_columns": null,
            "grid_template_rows": null,
            "height": null,
            "justify_content": null,
            "justify_items": null,
            "left": null,
            "margin": null,
            "max_height": null,
            "max_width": null,
            "min_height": null,
            "min_width": null,
            "object_fit": null,
            "object_position": null,
            "order": null,
            "overflow": null,
            "overflow_x": null,
            "overflow_y": null,
            "padding": null,
            "right": null,
            "top": null,
            "visibility": null,
            "width": null
          }
        },
        "8b966a8d9cd04073a27ce68fc4a364f9": {
          "model_module": "@jupyter-widgets/base",
          "model_name": "LayoutModel",
          "model_module_version": "1.2.0",
          "state": {
            "_model_module": "@jupyter-widgets/base",
            "_model_module_version": "1.2.0",
            "_model_name": "LayoutModel",
            "_view_count": null,
            "_view_module": "@jupyter-widgets/base",
            "_view_module_version": "1.2.0",
            "_view_name": "LayoutView",
            "align_content": null,
            "align_items": null,
            "align_self": null,
            "border": null,
            "bottom": null,
            "display": null,
            "flex": null,
            "flex_flow": null,
            "grid_area": null,
            "grid_auto_columns": null,
            "grid_auto_flow": null,
            "grid_auto_rows": null,
            "grid_column": null,
            "grid_gap": null,
            "grid_row": null,
            "grid_template_areas": null,
            "grid_template_columns": null,
            "grid_template_rows": null,
            "height": null,
            "justify_content": null,
            "justify_items": null,
            "left": null,
            "margin": null,
            "max_height": null,
            "max_width": null,
            "min_height": null,
            "min_width": null,
            "object_fit": null,
            "object_position": null,
            "order": null,
            "overflow": null,
            "overflow_x": null,
            "overflow_y": null,
            "padding": null,
            "right": null,
            "top": null,
            "visibility": null,
            "width": null
          }
        },
        "a1de042107e5470ba3145060b43c57a1": {
          "model_module": "@jupyter-widgets/controls",
          "model_name": "DescriptionStyleModel",
          "model_module_version": "1.5.0",
          "state": {
            "_model_module": "@jupyter-widgets/controls",
            "_model_module_version": "1.5.0",
            "_model_name": "DescriptionStyleModel",
            "_view_count": null,
            "_view_module": "@jupyter-widgets/base",
            "_view_module_version": "1.2.0",
            "_view_name": "StyleView",
            "description_width": ""
          }
        },
        "24eb451720af4785b7022e5e82c786a6": {
          "model_module": "@jupyter-widgets/base",
          "model_name": "LayoutModel",
          "model_module_version": "1.2.0",
          "state": {
            "_model_module": "@jupyter-widgets/base",
            "_model_module_version": "1.2.0",
            "_model_name": "LayoutModel",
            "_view_count": null,
            "_view_module": "@jupyter-widgets/base",
            "_view_module_version": "1.2.0",
            "_view_name": "LayoutView",
            "align_content": null,
            "align_items": null,
            "align_self": null,
            "border": null,
            "bottom": null,
            "display": null,
            "flex": null,
            "flex_flow": null,
            "grid_area": null,
            "grid_auto_columns": null,
            "grid_auto_flow": null,
            "grid_auto_rows": null,
            "grid_column": null,
            "grid_gap": null,
            "grid_row": null,
            "grid_template_areas": null,
            "grid_template_columns": null,
            "grid_template_rows": null,
            "height": null,
            "justify_content": null,
            "justify_items": null,
            "left": null,
            "margin": null,
            "max_height": null,
            "max_width": null,
            "min_height": null,
            "min_width": null,
            "object_fit": null,
            "object_position": null,
            "order": null,
            "overflow": null,
            "overflow_x": null,
            "overflow_y": null,
            "padding": null,
            "right": null,
            "top": null,
            "visibility": null,
            "width": null
          }
        },
        "39859d0d79b841008459dc987195f883": {
          "model_module": "@jupyter-widgets/controls",
          "model_name": "ProgressStyleModel",
          "model_module_version": "1.5.0",
          "state": {
            "_model_module": "@jupyter-widgets/controls",
            "_model_module_version": "1.5.0",
            "_model_name": "ProgressStyleModel",
            "_view_count": null,
            "_view_module": "@jupyter-widgets/base",
            "_view_module_version": "1.2.0",
            "_view_name": "StyleView",
            "bar_color": null,
            "description_width": ""
          }
        },
        "bbde39c9ecd8426ca8fc6a708fd78e06": {
          "model_module": "@jupyter-widgets/base",
          "model_name": "LayoutModel",
          "model_module_version": "1.2.0",
          "state": {
            "_model_module": "@jupyter-widgets/base",
            "_model_module_version": "1.2.0",
            "_model_name": "LayoutModel",
            "_view_count": null,
            "_view_module": "@jupyter-widgets/base",
            "_view_module_version": "1.2.0",
            "_view_name": "LayoutView",
            "align_content": null,
            "align_items": null,
            "align_self": null,
            "border": null,
            "bottom": null,
            "display": null,
            "flex": null,
            "flex_flow": null,
            "grid_area": null,
            "grid_auto_columns": null,
            "grid_auto_flow": null,
            "grid_auto_rows": null,
            "grid_column": null,
            "grid_gap": null,
            "grid_row": null,
            "grid_template_areas": null,
            "grid_template_columns": null,
            "grid_template_rows": null,
            "height": null,
            "justify_content": null,
            "justify_items": null,
            "left": null,
            "margin": null,
            "max_height": null,
            "max_width": null,
            "min_height": null,
            "min_width": null,
            "object_fit": null,
            "object_position": null,
            "order": null,
            "overflow": null,
            "overflow_x": null,
            "overflow_y": null,
            "padding": null,
            "right": null,
            "top": null,
            "visibility": null,
            "width": null
          }
        },
        "41a36239ebfb44f4bed7e98b98cdd2fa": {
          "model_module": "@jupyter-widgets/controls",
          "model_name": "DescriptionStyleModel",
          "model_module_version": "1.5.0",
          "state": {
            "_model_module": "@jupyter-widgets/controls",
            "_model_module_version": "1.5.0",
            "_model_name": "DescriptionStyleModel",
            "_view_count": null,
            "_view_module": "@jupyter-widgets/base",
            "_view_module_version": "1.2.0",
            "_view_name": "StyleView",
            "description_width": ""
          }
        }
      }
    }
  },
  "nbformat": 4,
  "nbformat_minor": 5
}